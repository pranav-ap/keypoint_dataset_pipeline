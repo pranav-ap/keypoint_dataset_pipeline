{
 "cells": [
  {
   "cell_type": "code",
   "id": "initial_id",
   "metadata": {
    "collapsed": true
   },
   "source": "from Painter import Painter",
   "outputs": [],
   "execution_count": null
  },
  {
   "metadata": {},
   "cell_type": "markdown",
   "source": "# Keypoints",
   "id": "54fb8fba290ded3c"
  },
  {
   "metadata": {},
   "cell_type": "code",
   "outputs": [],
   "execution_count": null,
   "source": "name = 'sacre_coeur_A.jpg'",
   "id": "4567073d64ab817"
  },
  {
   "metadata": {},
   "cell_type": "code",
   "source": "Painter.show_keypoints(name)",
   "id": "9caa8b83a6e4ca6b",
   "outputs": [],
   "execution_count": null
  },
  {
   "metadata": {},
   "cell_type": "code",
   "outputs": [],
   "execution_count": null,
   "source": "Painter.show_patches(name)",
   "id": "e659f0d21a99ce9a"
  },
  {
   "metadata": {},
   "cell_type": "markdown",
   "source": "# Matches",
   "id": "4f766a84fc3215e7"
  },
  {
   "metadata": {},
   "cell_type": "code",
   "outputs": [],
   "execution_count": null,
   "source": [
    "name_a = 'sacre_coeur_A.jpg'\n",
    "name_b = 'sacre_coeur_B.jpg'"
   ],
   "id": "6d6c5e528a0a981b"
  },
  {
   "metadata": {},
   "cell_type": "code",
   "outputs": [],
   "execution_count": null,
   "source": "Painter.show_patches(name_a, name_b, num_points=30)",
   "id": "a8466fc842e1a306"
  },
  {
   "metadata": {},
   "cell_type": "code",
   "outputs": [],
   "execution_count": null,
   "source": "Painter.show_filtered_keypoint_matches(name_a, name_b, num_points=30)",
   "id": "fd702a453fe6c8a8"
  },
  {
   "metadata": {},
   "cell_type": "code",
   "outputs": [],
   "execution_count": null,
   "source": "",
   "id": "eb70d918e37e0e19"
  }
 ],
 "metadata": {
  "kernelspec": {
   "display_name": "Python 3",
   "language": "python",
   "name": "python3"
  },
  "language_info": {
   "codemirror_mode": {
    "name": "ipython",
    "version": 2
   },
   "file_extension": ".py",
   "mimetype": "text/x-python",
   "name": "python",
   "nbconvert_exporter": "python",
   "pygments_lexer": "ipython2",
   "version": "2.7.6"
  }
 },
 "nbformat": 4,
 "nbformat_minor": 5
}
