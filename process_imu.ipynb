{
 "cells": [
  {
   "cell_type": "code",
   "execution_count": null,
   "metadata": {},
   "outputs": [],
   "source": [
    "import pandas as pd"
   ]
  },
  {
   "cell_type": "code",
   "execution_count": null,
   "metadata": {},
   "outputs": [],
   "source": [
    "# Example IMU data DataFrame (timestamp in nanoseconds, accelerometer, and gyroscope data)\n",
    "imu_df = pd.DataFrame({\n",
    "    \"timestamp\": [1_000_000, 1_500_000, 2_000_000, 2_500_000, 3_000_000],\n",
    "    \"accel_x\": [0.1, 0.2, 0.3, 0.4, 0.5],\n",
    "    \"accel_y\": [0.1, 0.2, 0.3, 0.4, 0.5],\n",
    "    \"accel_z\": [0.1, 0.2, 0.3, 0.4, 0.5],\n",
    "    \"gyro_x\": [0.01, 0.02, 0.03, 0.04, 0.05],\n",
    "    \"gyro_y\": [0.01, 0.02, 0.03, 0.04, 0.05],\n",
    "    \"gyro_z\": [0.01, 0.02, 0.03, 0.04, 0.05]\n",
    "})\n",
    "\n",
    "# Example image timestamps DataFrame (timestamp in nanoseconds)\n",
    "image_df = pd.DataFrame({\n",
    "    \"timestamp\": [1_250_000, 2_750_000]\n",
    "})"
   ]
  },
  {
   "cell_type": "code",
   "execution_count": null,
   "metadata": {},
   "outputs": [],
   "source": [
    "# Function to find IMU data before and after each image timestamp\n",
    "def find_closest_imu_data(imu_df, image_df):\n",
    "    matched_imu_data = []\n",
    "\n",
    "    for image_time in image_df[\"timestamp\"]:\n",
    "        # Find the IMU entries just before and after the image timestamp\n",
    "        imu_before = imu_df[imu_df[\"timestamp\"] <= image_time].iloc[-1]\n",
    "        imu_after = imu_df[imu_df[\"timestamp\"] >= image_time].iloc[0]\n",
    "\n",
    "        matched_imu_data.append({\n",
    "            \"image_timestamp\": image_time,\n",
    "            \"imu_before_timestamp\": imu_before[\"timestamp\"],\n",
    "            \"imu_after_timestamp\": imu_after[\"timestamp\"],\n",
    "            \"accel_x_before\": imu_before[\"accel_x\"],\n",
    "            \"accel_x_after\": imu_after[\"accel_x\"],\n",
    "            \"accel_y_before\": imu_before[\"accel_y\"],\n",
    "            \"accel_y_after\": imu_after[\"accel_y\"],\n",
    "            \"accel_z_before\": imu_before[\"accel_z\"],\n",
    "            \"accel_z_after\": imu_after[\"accel_z\"],\n",
    "            \"gyro_x_before\": imu_before[\"gyro_x\"],\n",
    "            \"gyro_x_after\": imu_after[\"gyro_x\"],\n",
    "            \"gyro_y_before\": imu_before[\"gyro_y\"],\n",
    "            \"gyro_y_after\": imu_after[\"gyro_y\"],\n",
    "            \"gyro_z_before\": imu_before[\"gyro_z\"],\n",
    "            \"gyro_z_after\": imu_after[\"gyro_z\"]\n",
    "        })\n",
    "\n",
    "    return pd.DataFrame(matched_imu_data)\n",
    "\n",
    "# Call the function and display the result\n",
    "aligned_data = find_closest_imu_data(imu_df, image_df)\n",
    "print(aligned_data)\n"
   ]
  },
  {
   "cell_type": "code",
   "execution_count": null,
   "metadata": {},
   "outputs": [],
   "source": []
  }
 ],
 "metadata": {
  "kernelspec": {
   "display_name": "kd_pipeline",
   "language": "python",
   "name": "python3"
  },
  "language_info": {
   "name": "python",
   "version": "3.12.7"
  }
 },
 "nbformat": 4,
 "nbformat_minor": 2
}
