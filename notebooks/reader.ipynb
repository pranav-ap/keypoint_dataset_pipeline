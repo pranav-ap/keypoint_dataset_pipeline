{
 "cells": [
  {
   "cell_type": "markdown",
   "metadata": {},
   "source": [
    "# Imports"
   ]
  },
  {
   "cell_type": "code",
   "execution_count": 1,
   "metadata": {},
   "outputs": [],
   "source": [
    "import numpy as np\n",
    "import h5py\n",
    "import random\n",
    "import torch"
   ]
  },
  {
   "cell_type": "markdown",
   "metadata": {},
   "source": [
    "# Reader"
   ]
  },
  {
   "cell_type": "code",
   "execution_count": 2,
   "metadata": {},
   "outputs": [],
   "source": [
    "class Reader:\n",
    "    def __init__(self):\n",
    "        dataset = 'MOO07_mapping_easy'\n",
    "        folder_path = f'/storage/local/pranav/datasets/basalt/monado_slam/{dataset}'\n",
    "        filename = 'data.hdf5'  # do not change \n",
    "        filepath = f'{folder_path}/{filename}'\n",
    "        self._file = h5py.File(filepath, 'r')\n",
    "\n",
    "        self.cam = 'cam0'\n",
    "        assert self.cam in ['cam0', 'cam1']\n",
    "    \n",
    "        # [width, height]\n",
    "        self.original_image_shape = [640, 480]\n",
    "        self.crop_image_shape = [630, 476]\n",
    "        \n",
    "        self._init_groups_read_mode()\n",
    "\n",
    "    def _init_groups_read_mode(self):\n",
    "        self._detector = self._file[f'{self.cam}/detector']\n",
    "        self._matcher = self._file[f'{self.cam}/matcher']\n",
    "        self._filter = self._file[f'{self.cam}/filter']\n",
    "        self._matches = self._file[f'{self.cam}/matches']\n",
    "\n",
    "        self.detector_normalised = self._detector['normalised']\n",
    "        self.detector_confidences = self._detector['confidences']\n",
    "\n",
    "        self.matcher_warp = self._matcher['warp'] # only one you will need\n",
    "        self.matcher_certainty = self._matcher['certainty']\n",
    "\n",
    "        self.filter_normalised = self._filter['normalised']\n",
    "        self.filter_confidences = self._filter['confidences']\n",
    "\n",
    "        self.cropped_image_reference_coords = self._matches['crop/reference_coords']\n",
    "        self.cropped_image_target_coords = self._matches['crop/target_coords']\n",
    "\n",
    "    def get_random_pair(self):\n",
    "        keys = list(self.cropped_image_reference_coords.keys())\n",
    "        random_key = random.choice(keys)\n",
    "        return random_key\n",
    "\n",
    "    def close(self):\n",
    "        self._file.close()\n",
    "\n",
    "    def _warp_to_pixel_coords(self, warp):\n",
    "        \"\"\"\n",
    "        This function is from a RoMa utils file\n",
    "        \"\"\"\n",
    "        h1, w1 = 476, 630\n",
    "        h2, w2 = 476, 630\n",
    "\n",
    "        warp1 = warp[..., :2]\n",
    "        warp1 = (\n",
    "            torch.stack(\n",
    "                (\n",
    "                    w1 * (warp1[..., 0] + 1) / 2,\n",
    "                    h1 * (warp1[..., 1] + 1) / 2,\n",
    "                ),\n",
    "                axis=-1\n",
    "            )\n",
    "        )\n",
    "\n",
    "        warp2 = warp[..., 2:]\n",
    "        warp2 = (\n",
    "            torch.stack(\n",
    "                (\n",
    "                    w2 * (warp2[..., 0] + 1) / 2,\n",
    "                    h2 * (warp2[..., 1] + 1) / 2,\n",
    "                ),\n",
    "                axis=-1\n",
    "            )\n",
    "        )\n",
    "\n",
    "        return torch.cat((warp1, warp2), dim=-1)\n",
    "\n",
    "    def load_warp(self, pair_name):\n",
    "        warp = self.matcher_warp[pair_name][()]\n",
    "        warp = torch.from_numpy(warp)\n",
    "\n",
    "        pixel_coords = self._warp_to_pixel_coords(warp)\n",
    "        certainty = self.matcher_certainty[pair_name][()]\n",
    "\n",
    "        return pixel_coords, certainty\n",
    "\n",
    "    def get_target_keypoint(self, pixel_coords, reference_keypoint):\n",
    "        \"\"\"\n",
    "        Make sure that reference x, y are within center cropped image size\n",
    "        \n",
    "        crop_w, crop_h = self.crop_image_shape\n",
    "        \"\"\"\n",
    "        x_a, y_a = reference_keypoint\n",
    "        x_a, y_a = int(x_a), int(y_a)\n",
    "\n",
    "        _, _, x_b, y_b = pixel_coords[y_a, x_a]\n",
    "        x_b, y_b = int(x_b.item()), int(y_b.item())\n",
    "  \n",
    "        original_w, original_h = self.original_image_shape\n",
    "        crop_w, crop_h = self.crop_image_shape \n",
    "\n",
    "        left_padding = (original_w - crop_w) // 2\n",
    "        top_padding = (original_h - crop_h) // 2\n",
    "\n",
    "        # making sure output is for original image size\n",
    "        x_b, y_b = x_b + left_padding, y_b + top_padding\n",
    "\n",
    "        return x_b, y_b\n"
   ]
  },
  {
   "cell_type": "code",
   "execution_count": 3,
   "metadata": {},
   "outputs": [],
   "source": [
    "reader = Reader()"
   ]
  },
  {
   "cell_type": "code",
   "execution_count": 4,
   "metadata": {},
   "outputs": [
    {
     "data": {
      "text/plain": [
       "<HDF5 file \"data.hdf5\" (mode r)>"
      ]
     },
     "execution_count": 4,
     "metadata": {},
     "output_type": "execute_result"
    }
   ],
   "source": [
    "reader._file"
   ]
  },
  {
   "cell_type": "markdown",
   "metadata": {},
   "source": [
    "# Get Random Pair Name"
   ]
  },
  {
   "cell_type": "markdown",
   "metadata": {},
   "source": [
    "This is a function to get names of two random consecutive frames. Was useful for testing."
   ]
  },
  {
   "cell_type": "code",
   "execution_count": 5,
   "metadata": {},
   "outputs": [
    {
     "data": {
      "text/plain": [
       "'8669603115290_8669636405390'"
      ]
     },
     "execution_count": 5,
     "metadata": {},
     "output_type": "execute_result"
    }
   ],
   "source": [
    "reader.get_random_pair()"
   ]
  },
  {
   "cell_type": "markdown",
   "metadata": {},
   "source": [
    "# Groups inside File"
   ]
  },
  {
   "cell_type": "code",
   "execution_count": 6,
   "metadata": {},
   "outputs": [],
   "source": [
    "def print_hdf5_structure(reader):\n",
    "    def print_group(name, obj):\n",
    "        if isinstance(obj, h5py.Group):\n",
    "            print(f\"Group: {name}\")\n",
    "        # elif isinstance(obj, h5py.Dataset):\n",
    "        #     print(f\"  Dataset: {name} | Shape: {obj.shape} | Data type: {obj.dtype}\")\n",
    "\n",
    "    reader._file.visititems(print_group)"
   ]
  },
  {
   "cell_type": "markdown",
   "metadata": {},
   "source": [
    "- The `detector` and `matcher` groups store the output of DeDoDe and RoMa. \n",
    "- The `filter` group stores the keypoints after we remove those with low RoMa confidences. Used for training\n",
    "- The `matches` group is only for training.  "
   ]
  },
  {
   "cell_type": "code",
   "execution_count": 7,
   "metadata": {},
   "outputs": [
    {
     "name": "stdout",
     "output_type": "stream",
     "text": [
      "Group: cam0\n",
      "Group: cam0/detector\n",
      "Group: cam0/detector/confidences\n",
      "Group: cam0/detector/normalised\n",
      "Group: cam0/filter\n",
      "Group: cam0/filter/confidences\n",
      "Group: cam0/filter/normalised\n",
      "Group: cam0/matcher\n",
      "Group: cam0/matcher/certainty\n",
      "Group: cam0/matcher/warp\n",
      "Group: cam0/matches\n",
      "Group: cam0/matches/crop\n",
      "Group: cam0/matches/crop/reference_coords\n",
      "Group: cam0/matches/crop/target_coords\n",
      "Group: cam1\n",
      "Group: cam1/detector\n",
      "Group: cam1/detector/confidences\n",
      "Group: cam1/detector/normalised\n",
      "Group: cam1/filter\n",
      "Group: cam1/filter/confidences\n",
      "Group: cam1/filter/normalised\n",
      "Group: cam1/matcher\n",
      "Group: cam1/matcher/certainty\n",
      "Group: cam1/matcher/warp\n",
      "Group: cam1/matches\n",
      "Group: cam1/matches/crop\n",
      "Group: cam1/matches/crop/reference_coords\n",
      "Group: cam1/matches/crop/target_coords\n"
     ]
    }
   ],
   "source": [
    "print_hdf5_structure(reader)"
   ]
  },
  {
   "cell_type": "markdown",
   "metadata": {},
   "source": [
    "# Get Target from Reference"
   ]
  },
  {
   "cell_type": "code",
   "execution_count": 8,
   "metadata": {},
   "outputs": [
    {
     "data": {
      "text/plain": [
       "'8671500609690_8671533899390'"
      ]
     },
     "execution_count": 8,
     "metadata": {},
     "output_type": "execute_result"
    }
   ],
   "source": [
    "pair_name = reader.get_random_pair()\n",
    "pair_name"
   ]
  },
  {
   "cell_type": "code",
   "execution_count": 9,
   "metadata": {},
   "outputs": [],
   "source": [
    "# pixel_coords holds the keypoint matches\n",
    "pixel_coords, certainty = reader.load_warp(pair_name)"
   ]
  },
  {
   "cell_type": "code",
   "execution_count": 10,
   "metadata": {},
   "outputs": [
    {
     "data": {
      "text/plain": [
       "torch.Size([476, 630, 4])"
      ]
     },
     "execution_count": 10,
     "metadata": {},
     "output_type": "execute_result"
    }
   ],
   "source": [
    "# Notice shape of pixel_coords. This is the shape of cropped image\n",
    "pixel_coords.shape  "
   ]
  },
  {
   "cell_type": "code",
   "execution_count": 11,
   "metadata": {},
   "outputs": [
    {
     "data": {
      "text/plain": [
       "(476, 630)"
      ]
     },
     "execution_count": 11,
     "metadata": {},
     "output_type": "execute_result"
    }
   ],
   "source": [
    "certainty.shape  "
   ]
  },
  {
   "cell_type": "code",
   "execution_count": 12,
   "metadata": {},
   "outputs": [
    {
     "data": {
      "text/plain": [
       "(635, 381)"
      ]
     },
     "execution_count": 12,
     "metadata": {},
     "output_type": "execute_result"
    }
   ],
   "source": [
    "# (coordinate along width, coordinate along height)\n",
    "reference_keypoint = [625, 400] \n",
    "\n",
    "target_keypoint = reader.get_target_keypoint(pixel_coords, reference_keypoint)\n",
    "target_keypoint"
   ]
  },
  {
   "cell_type": "code",
   "execution_count": null,
   "metadata": {},
   "outputs": [],
   "source": []
  }
 ],
 "metadata": {
  "kernelspec": {
   "display_name": "kd_pipeline",
   "language": "python",
   "name": "python3"
  },
  "language_info": {
   "codemirror_mode": {
    "name": "ipython",
    "version": 3
   },
   "file_extension": ".py",
   "mimetype": "text/x-python",
   "name": "python",
   "nbconvert_exporter": "python",
   "pygments_lexer": "ipython3",
   "version": "3.12.7"
  }
 },
 "nbformat": 4,
 "nbformat_minor": 2
}
