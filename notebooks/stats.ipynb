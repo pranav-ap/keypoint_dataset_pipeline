{
 "cells": [
  {
   "cell_type": "code",
   "execution_count": 1,
   "metadata": {},
   "outputs": [],
   "source": [
    "%load_ext autoreload\n",
    "%autoreload 2"
   ]
  },
  {
   "cell_type": "code",
   "execution_count": 2,
   "metadata": {},
   "outputs": [],
   "source": [
    "import os\n",
    "os.chdir('/home/stud/ath/ath_ws/keypoint_dataset_pipeline')"
   ]
  },
  {
   "cell_type": "code",
   "execution_count": 3,
   "metadata": {},
   "outputs": [],
   "source": [
    "from config import config\n",
    "from utils import logger\n",
    "\n",
    "import numpy as np\n",
    "import h5py\n",
    "import random\n",
    "import torch"
   ]
  },
  {
   "cell_type": "code",
   "execution_count": 4,
   "metadata": {},
   "outputs": [],
   "source": [
    "def print_hdf5_structure(reader):\n",
    "    def print_group(name, obj):\n",
    "        if isinstance(obj, h5py.Group):\n",
    "            print(f\"Group: {name}\")\n",
    "            \n",
    "    reader._file.visititems(print_group)"
   ]
  },
  {
   "cell_type": "code",
   "execution_count": 5,
   "metadata": {},
   "outputs": [],
   "source": [
    "class StatsReader:\n",
    "    def __init__(self, train=False):\n",
    "        # filepath = f'{config.paths[config.task.name].output}/data.hdf5'\n",
    "        filepath = '/home/stud/ath/ath_ws/keypoint_dataset_pipeline/output/output_all_missing/basalt/monado_slam/MOO08_mapping_hard/data.hdf5'\n",
    "        self._file = h5py.File(filepath, 'r')\n",
    "        \n",
    "        self._init_groups_read_mode()\n",
    "\n",
    "    def _init_groups_read_mode(self):\n",
    "        self._matcher = self._file[f'{config.task.cam}/matcher']\n",
    "\n",
    "        self.matcher_warp = self._matcher['warp']\n",
    "        self.matcher_certainty = self._matcher['certainty']\n",
    "        self.matcher_saves = self._matcher['saves']\n",
    "        \n",
    "    def close(self):\n",
    "        self._file.close()\n"
   ]
  },
  {
   "cell_type": "code",
   "execution_count": 6,
   "metadata": {},
   "outputs": [
    {
     "name": "stdout",
     "output_type": "stream",
     "text": [
      "Group: cam0\n",
      "Group: cam0/matcher\n",
      "Group: cam0/matcher/certainty\n",
      "Group: cam0/matcher/saves\n",
      "Group: cam0/matcher/warp\n",
      "Group: cam1\n",
      "Group: cam1/matcher\n",
      "Group: cam1/matcher/certainty\n",
      "Group: cam1/matcher/saves\n",
      "Group: cam1/matcher/warp\n"
     ]
    }
   ],
   "source": [
    "f = StatsReader()\n",
    "print_hdf5_structure(f)"
   ]
  },
  {
   "cell_type": "code",
   "execution_count": null,
   "metadata": {},
   "outputs": [],
   "source": []
  }
 ],
 "metadata": {
  "kernelspec": {
   "display_name": "kd_pipeline",
   "language": "python",
   "name": "python3"
  },
  "language_info": {
   "codemirror_mode": {
    "name": "ipython",
    "version": 3
   },
   "file_extension": ".py",
   "mimetype": "text/x-python",
   "name": "python",
   "nbconvert_exporter": "python",
   "pygments_lexer": "ipython3",
   "version": "3.12.7"
  }
 },
 "nbformat": 4,
 "nbformat_minor": 2
}
