{
 "cells": [
  {
   "cell_type": "code",
   "execution_count": null,
   "metadata": {},
   "outputs": [
    {
     "ename": "",
     "evalue": "",
     "output_type": "error",
     "traceback": [
      "\u001b[1;31mFailed to start the Kernel. \n",
      "\u001b[1;31mThe kernel died. Error: ... View Jupyter <a href='command:jupyter.viewOutput'>log</a> for further details."
     ]
    }
   ],
   "source": [
    "%load_ext autoreload\n",
    "%autoreload 2"
   ]
  },
  {
   "cell_type": "code",
   "execution_count": 52,
   "metadata": {},
   "outputs": [],
   "source": [
    "import os\n",
    "os.chdir('/home/stud/ath/ath_ws/keypoint_dataset_pipeline')"
   ]
  },
  {
   "cell_type": "code",
   "execution_count": 53,
   "metadata": {},
   "outputs": [],
   "source": [
    "from config import config\n",
    "from utils import logger\n",
    "\n",
    "import numpy as np\n",
    "import h5py\n",
    "import random\n",
    "import torch"
   ]
  },
  {
   "cell_type": "code",
   "execution_count": 54,
   "metadata": {},
   "outputs": [],
   "source": [
    "def print_hdf5_structure(reader):\n",
    "    def print_group(name, obj):\n",
    "        if isinstance(obj, h5py.Group):\n",
    "            print(f\"Group: {name}\")\n",
    "            \n",
    "    reader._file.visititems(print_group)"
   ]
  },
  {
   "cell_type": "code",
   "execution_count": 55,
   "metadata": {},
   "outputs": [],
   "source": [
    "class StatsReader:\n",
    "    def __init__(self, train=False):\n",
    "        filepath = f'{config.paths[config.task.name].output}/data.hdf5'\n",
    "        self._file = h5py.File(filepath, 'r')\n",
    "        \n",
    "        self._init_groups_read_mode()\n",
    "\n",
    "    def _init_groups_read_mode(self):\n",
    "        self._detector = self._file[f'{config.task.cam}/detector']\n",
    "        self._matcher = self._file[f'{config.task.cam}/matcher']\n",
    "        self._filter = self._file[f'{config.task.cam}/filter']\n",
    "        self._matches = self._file[f'{config.task.cam}/matches']\n",
    "\n",
    "        self.detector_normalised = self._detector['normalised']\n",
    "        self.detector_confidences = self._detector['confidences']\n",
    "\n",
    "        self.matcher_warp = self._matcher['warp'] # only one you will need\n",
    "        self.matcher_certainty = self._matcher['certainty']\n",
    "\n",
    "        self.filter_normalised = self._filter['normalised']\n",
    "        self.filter_confidences = self._filter['confidences']\n",
    "\n",
    "        self.cropped_image_reference_coords = self._matches['crop/reference_coords']\n",
    "        self.cropped_image_target_coords = self._matches['crop/target_coords']\n",
    "    \n",
    "    def close(self):\n",
    "        self._file.close()\n"
   ]
  },
  {
   "cell_type": "code",
   "execution_count": null,
   "metadata": {},
   "outputs": [],
   "source": [
    "config.task.frame_filtering = 'blur_test'\n",
    "\n",
    "reference_coords_total_count = 0\n",
    "target_coords_total_count = 0\n",
    "\n",
    "coords_stats = {}\n",
    "\n",
    "for track in config.task.tracks:\n",
    "    config.task.track = track\n",
    "    logger.info(f'Track : {track}')\n",
    "    config.task.dataset_kind = track[:2]\n",
    "\n",
    "    filepath = f'{config.paths[config.task.name].output}/data.hdf5'\n",
    "    print(filepath)\n",
    "\n",
    "    reader = StatsReader()\n",
    "    # print_hdf5_structure(reader)\n",
    "\n",
    "    coords_stats[track] = 0\n",
    "\n",
    "    for cam in config.task.cams:\n",
    "        config.task.cam = cam\n",
    "        logger.info(f'Cam : {cam}')\n",
    "\n",
    "        refs_from = reader._file[f'{cam}/matches/crop/reference_coords']\n",
    "        tars_from = reader._file[f'{cam}/matches/crop/target_coords']\n",
    "\n",
    "        print(f'Number of Reference Coords  : {len(refs_from)}')\n",
    "        print(f'Number of Target Coords     : {len(tars_from)}')\n",
    "\n",
    "        coords_stats[track] += len(refs_from)\n",
    "\n",
    "        reference_coords_total_count += len(refs_from)\n",
    "        target_coords_total_count += len(tars_from)\n",
    "    \n",
    "    reader.close()\n",
    "    \n",
    "print(f'Total Reference Coords : {reference_coords_total_count}')\n",
    "print(f'Total Target Coords : {target_coords_total_count}')"
   ]
  },
  {
   "cell_type": "markdown",
   "metadata": {},
   "source": [
    "# Train Data"
   ]
  },
  {
   "cell_type": "code",
   "execution_count": 60,
   "metadata": {},
   "outputs": [],
   "source": [
    "filepath = f'{config.paths[config.task.name].train_data}/train_data.hdf5'\n",
    "train_data_f = h5py.File(filepath, 'r')"
   ]
  },
  {
   "cell_type": "code",
   "execution_count": null,
   "metadata": {},
   "outputs": [],
   "source": [
    "train_data_f"
   ]
  },
  {
   "cell_type": "code",
   "execution_count": null,
   "metadata": {},
   "outputs": [],
   "source": [
    "total_pairs = 0\n",
    "coords_stats = {}\n",
    "\n",
    "def print_hdf5_structure(train_data_f):\n",
    "    def print_group(name, obj):\n",
    "        if isinstance(obj, h5py.Group):\n",
    "            print(f\"Group: {name} = {len(obj)}\")\n",
    "            track = name.split('/')[0]\n",
    "\n",
    "            if track not in coords_stats.keys():\n",
    "                coords_stats[track] = 0\n",
    "\n",
    "            if name.endswith('reference_coords'):\n",
    "                global total_pairs\n",
    "                total_pairs += len(obj)\n",
    "                logger.info(f'Length so far {total_pairs}')\n",
    "\n",
    "                coords_stats[track] += len(obj) \n",
    "            \n",
    "    train_data_f.visititems(print_group)\n",
    "\n",
    "print_hdf5_structure(train_data_f)\n",
    "logger.info(f'Length {total_pairs}')"
   ]
  },
  {
   "cell_type": "markdown",
   "metadata": {},
   "source": [
    "# Order videos"
   ]
  },
  {
   "cell_type": "code",
   "execution_count": null,
   "metadata": {},
   "outputs": [],
   "source": [
    "sorted_items = sorted(coords_stats.items(), key=lambda item: item[1])\n",
    "\n",
    "for key, value in sorted_items:\n",
    "    print(f\"{key} : {value}\")"
   ]
  },
  {
   "cell_type": "code",
   "execution_count": null,
   "metadata": {},
   "outputs": [],
   "source": [
    "# Calculate the total sum of values\n",
    "total_sum = sum(coords_stats.values())\n",
    "validation_target = total_sum * 0.25\n",
    "\n",
    "# Split into validation and training based on value sum\n",
    "validation = {}\n",
    "training = {}\n",
    "current_sum = 0\n",
    "\n",
    "for key, value in sorted_items:\n",
    "    if current_sum + value <= validation_target:\n",
    "        validation[key] = value\n",
    "        current_sum += value\n",
    "    else:\n",
    "        training[key] = value\n",
    "\n",
    "validation_sum = sum(validation.values())\n",
    "training_sum = sum(training.values())\n",
    "\n",
    "print(\"Validation Set:\")\n",
    "print(f\"Count of values (sum): {validation_sum}\\n\")\n",
    "for key, value in validation.items():\n",
    "    print(f\"{key}: {value}\")\n",
    "\n",
    "print(\"\\nTraining Set:\")\n",
    "print(f\"Count of values (sum): {training_sum}\\n\")\n",
    "for key, value in training.items():\n",
    "    print(f\"{key}: {value}\")"
   ]
  },
  {
   "cell_type": "code",
   "execution_count": null,
   "metadata": {},
   "outputs": [],
   "source": []
  }
 ],
 "metadata": {
  "kernelspec": {
   "display_name": "kd_pipeline",
   "language": "python",
   "name": "python3"
  },
  "language_info": {
   "codemirror_mode": {
    "name": "ipython",
    "version": 3
   },
   "file_extension": ".py",
   "mimetype": "text/x-python",
   "name": "python",
   "nbconvert_exporter": "python",
   "pygments_lexer": "ipython3",
   "version": "3.12.7"
  }
 },
 "nbformat": 4,
 "nbformat_minor": 2
}
