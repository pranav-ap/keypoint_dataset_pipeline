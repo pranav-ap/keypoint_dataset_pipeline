{
 "cells": [
  {
   "cell_type": "code",
   "execution_count": 2,
   "metadata": {},
   "outputs": [
    {
     "name": "stdout",
     "output_type": "stream",
     "text": [
      "New coordinates: (254, 143)\n"
     ]
    }
   ],
   "source": [
    "def resize_coordinates(x, y, original_width, original_height, new_width, new_height):\n",
    "    new_x = x * (new_width / original_width)\n",
    "    new_y = y * (new_height / original_height)\n",
    "    return round(new_x), round(new_y)\n",
    "\n",
    "\n",
    "original_width, original_height = 504, 504 \n",
    "new_width, new_height = 640, 480\n",
    "x, y = 200, 150  # Original coordinates\n",
    "\n",
    "new_x, new_y = resize_coordinates(x, y, original_width, original_height, new_width, new_height)\n",
    "print(f\"New coordinates: ({new_x}, {new_y})\")"
   ]
  },
  {
   "cell_type": "code",
   "execution_count": null,
   "metadata": {},
   "outputs": [],
   "source": []
  }
 ],
 "metadata": {
  "kernelspec": {
   "display_name": "kd_pipeline",
   "language": "python",
   "name": "python3"
  },
  "language_info": {
   "codemirror_mode": {
    "name": "ipython",
    "version": 3
   },
   "file_extension": ".py",
   "mimetype": "text/x-python",
   "name": "python",
   "nbconvert_exporter": "python",
   "pygments_lexer": "ipython3",
   "version": "3.12.7"
  }
 },
 "nbformat": 4,
 "nbformat_minor": 2
}
