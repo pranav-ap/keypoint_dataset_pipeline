{
 "cells": [
  {
   "metadata": {
    "ExecuteTime": {
     "end_time": "2024-11-11T15:50:14.513294Z",
     "start_time": "2024-11-11T15:49:57.703355Z"
    }
   },
   "cell_type": "code",
   "source": [
    "import torch\n",
    "\n",
    "\n",
    "def get_best_device(verbose=False):\n",
    "    device = torch.device('cpu')\n",
    "\n",
    "    if torch.cuda.is_available():\n",
    "        device = torch.device('cuda')\n",
    "    elif torch.backends.mps.is_available():\n",
    "        device = torch.device('mps')\n",
    "\n",
    "    if verbose:\n",
    "        print(f\"Fastest device found is: {device}\")\n",
    "\n",
    "    return device\n",
    "\n",
    "device = get_best_device()\n",
    "\n",
    "\n",
    "import torchvision.transforms as T\n",
    "normalizer = T.Normalize(\n",
    "    mean=[0.485, 0.456, 0.406],\n",
    "    std=[0.229, 0.224, 0.225]\n",
    ")"
   ],
   "id": "f1cef47b78a942a1",
   "outputs": [],
   "execution_count": 1
  },
  {
   "metadata": {
    "ExecuteTime": {
     "end_time": "2024-11-11T15:50:15.045304Z",
     "start_time": "2024-11-11T15:50:14.521085Z"
    }
   },
   "cell_type": "code",
   "source": [
    "from PIL import Image\n",
    "import numpy as np\n",
    "\n",
    "image_path = 'D:/thesis_code/keypoint_dataset_pipeline/data/samples/images/toronto_A.jpg'\n",
    "image = Image.open(image_path)\n",
    "image = image.resize((504, 504))  # ((784, 784)) (2040, 1530)\n",
    "image_np = np.array(image)\n",
    "\n",
    "image_path2 = 'D:/thesis_code/keypoint_dataset_pipeline/data/samples/images/toronto_B.jpg'\n",
    "image2 = Image.open(image_path2)\n",
    "image2 = image2.resize((504, 504))  # ((784, 784)) (2040, 1530)\n",
    "image_np_2 = np.array(image2)\n"
   ],
   "id": "8e9f2f0a37ee0da3",
   "outputs": [],
   "execution_count": 2
  },
  {
   "cell_type": "code",
   "id": "initial_id",
   "metadata": {
    "collapsed": true,
    "ExecuteTime": {
     "end_time": "2024-11-11T15:50:47.849537Z",
     "start_time": "2024-11-11T15:50:15.052691Z"
    }
   },
   "source": [
    "from romatch import roma_outdoor\n",
    "model = roma_outdoor(\n",
    "    device=device,\n",
    "    # (height, width)\n",
    "    upsample_res=(504, 504)\n",
    ")\n",
    "model.symmetric = False"
   ],
   "outputs": [
    {
     "name": "stderr",
     "output_type": "stream",
     "text": [
      "WARNING:dinov2:xFormers not available\n",
      "C:\\Users\\prana\\miniconda3\\envs\\kp_env\\Lib\\site-packages\\torchvision\\models\\_utils.py:208: UserWarning: The parameter 'pretrained' is deprecated since 0.13 and may be removed in the future, please use 'weights' instead.\n",
      "  warnings.warn(\n",
      "C:\\Users\\prana\\miniconda3\\envs\\kp_env\\Lib\\site-packages\\torchvision\\models\\_utils.py:223: UserWarning: Arguments other than a weight enum or `None` for 'weights' are deprecated since 0.13 and may be removed in the future. The current behavior is equivalent to passing `weights=None`.\n",
      "  warnings.warn(msg)\n"
     ]
    },
    {
     "name": "stdout",
     "output_type": "stream",
     "text": [
      "Using coarse resolution (560, 560), and upsample res (504, 504)\n"
     ]
    }
   ],
   "execution_count": 3
  },
  {
   "metadata": {
    "ExecuteTime": {
     "end_time": "2024-11-11T15:50:59.554078Z",
     "start_time": "2024-11-11T15:50:47.855610Z"
    }
   },
   "cell_type": "code",
   "source": [
    "warp, certainty = model.match(\n",
    "    torch.from_numpy(np.transpose(image_np, (2, 0, 1)).astype(np.float32)).unsqueeze(0),\n",
    "    torch.from_numpy(np.transpose(image_np_2, (2, 0, 1)).astype(np.float32)).unsqueeze(0),\n",
    "    batched=True,\n",
    "    device=device\n",
    ")\n",
    "\n",
    "warp.shape, certainty.shape"
   ],
   "id": "ff342a2686f5b265",
   "outputs": [
    {
     "name": "stderr",
     "output_type": "stream",
     "text": [
      "D:\\thesis_code\\keypoint_dataset_pipeline\\libs\\RoMa\\romatch\\models\\matcher.py:638: UserWarning: Model resolution and batch resolution differ, may produce unexpected results\n",
      "  warn(\"Model resolution and batch resolution differ, may produce unexpected results\")\n"
     ]
    },
    {
     "name": "stdout",
     "output_type": "stream",
     "text": [
      "PRANAV HAHA\n",
      "PRANAV Test Transform\n",
      "PRANAV Boom\n"
     ]
    },
    {
     "ename": "RuntimeError",
     "evalue": "grid_sampler(): expected grid and input to have same batch size, but got input with sizes [0, 512, 63, 63] and grid with sizes [1, 63, 63, 2]",
     "output_type": "error",
     "traceback": [
      "\u001B[1;31m---------------------------------------------------------------------------\u001B[0m",
      "\u001B[1;31mRuntimeError\u001B[0m                              Traceback (most recent call last)",
      "Cell \u001B[1;32mIn[4], line 1\u001B[0m\n\u001B[1;32m----> 1\u001B[0m warp, certainty \u001B[38;5;241m=\u001B[39m model\u001B[38;5;241m.\u001B[39mmatch(\n\u001B[0;32m      2\u001B[0m     torch\u001B[38;5;241m.\u001B[39mfrom_numpy(np\u001B[38;5;241m.\u001B[39mtranspose(image_np, (\u001B[38;5;241m2\u001B[39m, \u001B[38;5;241m0\u001B[39m, \u001B[38;5;241m1\u001B[39m))\u001B[38;5;241m.\u001B[39mastype(np\u001B[38;5;241m.\u001B[39mfloat32))\u001B[38;5;241m.\u001B[39munsqueeze(\u001B[38;5;241m0\u001B[39m),\n\u001B[0;32m      3\u001B[0m     torch\u001B[38;5;241m.\u001B[39mfrom_numpy(np\u001B[38;5;241m.\u001B[39mtranspose(image_np_2, (\u001B[38;5;241m2\u001B[39m, \u001B[38;5;241m0\u001B[39m, \u001B[38;5;241m1\u001B[39m))\u001B[38;5;241m.\u001B[39mastype(np\u001B[38;5;241m.\u001B[39mfloat32))\u001B[38;5;241m.\u001B[39munsqueeze(\u001B[38;5;241m0\u001B[39m),\n\u001B[0;32m      4\u001B[0m     batched\u001B[38;5;241m=\u001B[39m\u001B[38;5;28;01mTrue\u001B[39;00m,\n\u001B[0;32m      5\u001B[0m     device\u001B[38;5;241m=\u001B[39mdevice\n\u001B[0;32m      6\u001B[0m )\n\u001B[0;32m      8\u001B[0m warp\u001B[38;5;241m.\u001B[39mshape, certainty\u001B[38;5;241m.\u001B[39mshape\n",
      "File \u001B[1;32m~\\miniconda3\\envs\\kp_env\\Lib\\site-packages\\torch\\utils\\_contextlib.py:116\u001B[0m, in \u001B[0;36mcontext_decorator.<locals>.decorate_context\u001B[1;34m(*args, **kwargs)\u001B[0m\n\u001B[0;32m    113\u001B[0m \u001B[38;5;129m@functools\u001B[39m\u001B[38;5;241m.\u001B[39mwraps(func)\n\u001B[0;32m    114\u001B[0m \u001B[38;5;28;01mdef\u001B[39;00m \u001B[38;5;21mdecorate_context\u001B[39m(\u001B[38;5;241m*\u001B[39margs, \u001B[38;5;241m*\u001B[39m\u001B[38;5;241m*\u001B[39mkwargs):\n\u001B[0;32m    115\u001B[0m     \u001B[38;5;28;01mwith\u001B[39;00m ctx_factory():\n\u001B[1;32m--> 116\u001B[0m         \u001B[38;5;28;01mreturn\u001B[39;00m func(\u001B[38;5;241m*\u001B[39margs, \u001B[38;5;241m*\u001B[39m\u001B[38;5;241m*\u001B[39mkwargs)\n",
      "File \u001B[1;32mD:\\thesis_code\\keypoint_dataset_pipeline\\libs\\RoMa\\romatch\\models\\matcher.py:680\u001B[0m, in \u001B[0;36mRegressionMatcher.match\u001B[1;34m(self, im_A_input, im_B_input, batched, device, *args)\u001B[0m\n\u001B[0;32m    678\u001B[0m     \u001B[38;5;28;01melse\u001B[39;00m:\n\u001B[0;32m    679\u001B[0m         \u001B[38;5;28mprint\u001B[39m(\u001B[38;5;124m'\u001B[39m\u001B[38;5;124mPRANAV Boom\u001B[39m\u001B[38;5;124m'\u001B[39m)\n\u001B[1;32m--> 680\u001B[0m         corresps \u001B[38;5;241m=\u001B[39m \u001B[38;5;28mself\u001B[39m\u001B[38;5;241m.\u001B[39mforward(batch, batched\u001B[38;5;241m=\u001B[39m\u001B[38;5;28;01mTrue\u001B[39;00m, upsample\u001B[38;5;241m=\u001B[39m\u001B[38;5;28;01mTrue\u001B[39;00m, scale_factor\u001B[38;5;241m=\u001B[39mscale_factor)\n\u001B[0;32m    682\u001B[0m im_A_to_im_B \u001B[38;5;241m=\u001B[39m corresps[finest_scale][\u001B[38;5;124m\"\u001B[39m\u001B[38;5;124mflow\u001B[39m\u001B[38;5;124m\"\u001B[39m]\n\u001B[0;32m    683\u001B[0m certainty \u001B[38;5;241m=\u001B[39m corresps[finest_scale][\u001B[38;5;124m\"\u001B[39m\u001B[38;5;124mcertainty\u001B[39m\u001B[38;5;124m\"\u001B[39m] \u001B[38;5;241m-\u001B[39m (low_res_certainty \u001B[38;5;28;01mif\u001B[39;00m \u001B[38;5;28mself\u001B[39m\u001B[38;5;241m.\u001B[39mattenuate_cert \u001B[38;5;28;01melse\u001B[39;00m \u001B[38;5;241m0\u001B[39m)\n",
      "File \u001B[1;32mD:\\thesis_code\\keypoint_dataset_pipeline\\libs\\RoMa\\romatch\\models\\matcher.py:508\u001B[0m, in \u001B[0;36mRegressionMatcher.forward\u001B[1;34m(self, batch, batched, upsample, scale_factor)\u001B[0m\n\u001B[0;32m    506\u001B[0m \u001B[38;5;28;01melse\u001B[39;00m:\n\u001B[0;32m    507\u001B[0m     f_q_pyramid, f_s_pyramid \u001B[38;5;241m=\u001B[39m feature_pyramid\n\u001B[1;32m--> 508\u001B[0m corresps \u001B[38;5;241m=\u001B[39m \u001B[38;5;28mself\u001B[39m\u001B[38;5;241m.\u001B[39mdecoder(f_q_pyramid, \n\u001B[0;32m    509\u001B[0m                         f_s_pyramid, \n\u001B[0;32m    510\u001B[0m                         upsample \u001B[38;5;241m=\u001B[39m upsample, \n\u001B[0;32m    511\u001B[0m                         \u001B[38;5;241m*\u001B[39m\u001B[38;5;241m*\u001B[39m(batch[\u001B[38;5;124m\"\u001B[39m\u001B[38;5;124mcorresps\u001B[39m\u001B[38;5;124m\"\u001B[39m] \u001B[38;5;28;01mif\u001B[39;00m \u001B[38;5;124m\"\u001B[39m\u001B[38;5;124mcorresps\u001B[39m\u001B[38;5;124m\"\u001B[39m \u001B[38;5;129;01min\u001B[39;00m batch \u001B[38;5;28;01melse\u001B[39;00m {}),\n\u001B[0;32m    512\u001B[0m                         scale_factor\u001B[38;5;241m=\u001B[39mscale_factor)\n\u001B[0;32m    514\u001B[0m \u001B[38;5;28;01mreturn\u001B[39;00m corresps\n",
      "File \u001B[1;32m~\\miniconda3\\envs\\kp_env\\Lib\\site-packages\\torch\\nn\\modules\\module.py:1736\u001B[0m, in \u001B[0;36mModule._wrapped_call_impl\u001B[1;34m(self, *args, **kwargs)\u001B[0m\n\u001B[0;32m   1734\u001B[0m     \u001B[38;5;28;01mreturn\u001B[39;00m \u001B[38;5;28mself\u001B[39m\u001B[38;5;241m.\u001B[39m_compiled_call_impl(\u001B[38;5;241m*\u001B[39margs, \u001B[38;5;241m*\u001B[39m\u001B[38;5;241m*\u001B[39mkwargs)  \u001B[38;5;66;03m# type: ignore[misc]\u001B[39;00m\n\u001B[0;32m   1735\u001B[0m \u001B[38;5;28;01melse\u001B[39;00m:\n\u001B[1;32m-> 1736\u001B[0m     \u001B[38;5;28;01mreturn\u001B[39;00m \u001B[38;5;28mself\u001B[39m\u001B[38;5;241m.\u001B[39m_call_impl(\u001B[38;5;241m*\u001B[39margs, \u001B[38;5;241m*\u001B[39m\u001B[38;5;241m*\u001B[39mkwargs)\n",
      "File \u001B[1;32m~\\miniconda3\\envs\\kp_env\\Lib\\site-packages\\torch\\nn\\modules\\module.py:1747\u001B[0m, in \u001B[0;36mModule._call_impl\u001B[1;34m(self, *args, **kwargs)\u001B[0m\n\u001B[0;32m   1742\u001B[0m \u001B[38;5;66;03m# If we don't have any hooks, we want to skip the rest of the logic in\u001B[39;00m\n\u001B[0;32m   1743\u001B[0m \u001B[38;5;66;03m# this function, and just call forward.\u001B[39;00m\n\u001B[0;32m   1744\u001B[0m \u001B[38;5;28;01mif\u001B[39;00m \u001B[38;5;129;01mnot\u001B[39;00m (\u001B[38;5;28mself\u001B[39m\u001B[38;5;241m.\u001B[39m_backward_hooks \u001B[38;5;129;01mor\u001B[39;00m \u001B[38;5;28mself\u001B[39m\u001B[38;5;241m.\u001B[39m_backward_pre_hooks \u001B[38;5;129;01mor\u001B[39;00m \u001B[38;5;28mself\u001B[39m\u001B[38;5;241m.\u001B[39m_forward_hooks \u001B[38;5;129;01mor\u001B[39;00m \u001B[38;5;28mself\u001B[39m\u001B[38;5;241m.\u001B[39m_forward_pre_hooks\n\u001B[0;32m   1745\u001B[0m         \u001B[38;5;129;01mor\u001B[39;00m _global_backward_pre_hooks \u001B[38;5;129;01mor\u001B[39;00m _global_backward_hooks\n\u001B[0;32m   1746\u001B[0m         \u001B[38;5;129;01mor\u001B[39;00m _global_forward_hooks \u001B[38;5;129;01mor\u001B[39;00m _global_forward_pre_hooks):\n\u001B[1;32m-> 1747\u001B[0m     \u001B[38;5;28;01mreturn\u001B[39;00m forward_call(\u001B[38;5;241m*\u001B[39margs, \u001B[38;5;241m*\u001B[39m\u001B[38;5;241m*\u001B[39mkwargs)\n\u001B[0;32m   1749\u001B[0m result \u001B[38;5;241m=\u001B[39m \u001B[38;5;28;01mNone\u001B[39;00m\n\u001B[0;32m   1750\u001B[0m called_always_called_hooks \u001B[38;5;241m=\u001B[39m \u001B[38;5;28mset\u001B[39m()\n",
      "File \u001B[1;32mD:\\thesis_code\\keypoint_dataset_pipeline\\libs\\RoMa\\romatch\\models\\matcher.py:393\u001B[0m, in \u001B[0;36mDecoder.forward\u001B[1;34m(self, f1, f2, gt_warp, gt_prob, upsample, flow, certainty, scale_factor)\u001B[0m\n\u001B[0;32m    391\u001B[0m \u001B[38;5;28;01mif\u001B[39;00m new_scale \u001B[38;5;129;01min\u001B[39;00m \u001B[38;5;28mself\u001B[39m\u001B[38;5;241m.\u001B[39mconv_refiner:\n\u001B[0;32m    392\u001B[0m     corresps[ins]\u001B[38;5;241m.\u001B[39mupdate({\u001B[38;5;124m\"\u001B[39m\u001B[38;5;124mflow_pre_delta\u001B[39m\u001B[38;5;124m\"\u001B[39m: flow}) \u001B[38;5;28;01mif\u001B[39;00m \u001B[38;5;28mself\u001B[39m\u001B[38;5;241m.\u001B[39mtraining \u001B[38;5;28;01melse\u001B[39;00m \u001B[38;5;28;01mNone\u001B[39;00m\n\u001B[1;32m--> 393\u001B[0m     delta_flow, delta_certainty \u001B[38;5;241m=\u001B[39m \u001B[38;5;28mself\u001B[39m\u001B[38;5;241m.\u001B[39mconv_refiner[new_scale](\n\u001B[0;32m    394\u001B[0m         f1_s, f2_s, flow, scale_factor \u001B[38;5;241m=\u001B[39m scale_factor, logits \u001B[38;5;241m=\u001B[39m certainty,\n\u001B[0;32m    395\u001B[0m     )                    \n\u001B[0;32m    396\u001B[0m     corresps[ins]\u001B[38;5;241m.\u001B[39mupdate({\u001B[38;5;124m\"\u001B[39m\u001B[38;5;124mdelta_flow\u001B[39m\u001B[38;5;124m\"\u001B[39m: delta_flow,}) \u001B[38;5;28;01mif\u001B[39;00m \u001B[38;5;28mself\u001B[39m\u001B[38;5;241m.\u001B[39mtraining \u001B[38;5;28;01melse\u001B[39;00m \u001B[38;5;28;01mNone\u001B[39;00m\n\u001B[0;32m    397\u001B[0m     displacement \u001B[38;5;241m=\u001B[39m ins\u001B[38;5;241m*\u001B[39mtorch\u001B[38;5;241m.\u001B[39mstack((delta_flow[:, \u001B[38;5;241m0\u001B[39m]\u001B[38;5;241m.\u001B[39mfloat() \u001B[38;5;241m/\u001B[39m (\u001B[38;5;28mself\u001B[39m\u001B[38;5;241m.\u001B[39mrefine_init \u001B[38;5;241m*\u001B[39m w),\n\u001B[0;32m    398\u001B[0m                                     delta_flow[:, \u001B[38;5;241m1\u001B[39m]\u001B[38;5;241m.\u001B[39mfloat() \u001B[38;5;241m/\u001B[39m (\u001B[38;5;28mself\u001B[39m\u001B[38;5;241m.\u001B[39mrefine_init \u001B[38;5;241m*\u001B[39m h),),dim\u001B[38;5;241m=\u001B[39m\u001B[38;5;241m1\u001B[39m,)\n",
      "File \u001B[1;32m~\\miniconda3\\envs\\kp_env\\Lib\\site-packages\\torch\\nn\\modules\\module.py:1736\u001B[0m, in \u001B[0;36mModule._wrapped_call_impl\u001B[1;34m(self, *args, **kwargs)\u001B[0m\n\u001B[0;32m   1734\u001B[0m     \u001B[38;5;28;01mreturn\u001B[39;00m \u001B[38;5;28mself\u001B[39m\u001B[38;5;241m.\u001B[39m_compiled_call_impl(\u001B[38;5;241m*\u001B[39margs, \u001B[38;5;241m*\u001B[39m\u001B[38;5;241m*\u001B[39mkwargs)  \u001B[38;5;66;03m# type: ignore[misc]\u001B[39;00m\n\u001B[0;32m   1735\u001B[0m \u001B[38;5;28;01melse\u001B[39;00m:\n\u001B[1;32m-> 1736\u001B[0m     \u001B[38;5;28;01mreturn\u001B[39;00m \u001B[38;5;28mself\u001B[39m\u001B[38;5;241m.\u001B[39m_call_impl(\u001B[38;5;241m*\u001B[39margs, \u001B[38;5;241m*\u001B[39m\u001B[38;5;241m*\u001B[39mkwargs)\n",
      "File \u001B[1;32m~\\miniconda3\\envs\\kp_env\\Lib\\site-packages\\torch\\nn\\modules\\module.py:1747\u001B[0m, in \u001B[0;36mModule._call_impl\u001B[1;34m(self, *args, **kwargs)\u001B[0m\n\u001B[0;32m   1742\u001B[0m \u001B[38;5;66;03m# If we don't have any hooks, we want to skip the rest of the logic in\u001B[39;00m\n\u001B[0;32m   1743\u001B[0m \u001B[38;5;66;03m# this function, and just call forward.\u001B[39;00m\n\u001B[0;32m   1744\u001B[0m \u001B[38;5;28;01mif\u001B[39;00m \u001B[38;5;129;01mnot\u001B[39;00m (\u001B[38;5;28mself\u001B[39m\u001B[38;5;241m.\u001B[39m_backward_hooks \u001B[38;5;129;01mor\u001B[39;00m \u001B[38;5;28mself\u001B[39m\u001B[38;5;241m.\u001B[39m_backward_pre_hooks \u001B[38;5;129;01mor\u001B[39;00m \u001B[38;5;28mself\u001B[39m\u001B[38;5;241m.\u001B[39m_forward_hooks \u001B[38;5;129;01mor\u001B[39;00m \u001B[38;5;28mself\u001B[39m\u001B[38;5;241m.\u001B[39m_forward_pre_hooks\n\u001B[0;32m   1745\u001B[0m         \u001B[38;5;129;01mor\u001B[39;00m _global_backward_pre_hooks \u001B[38;5;129;01mor\u001B[39;00m _global_backward_hooks\n\u001B[0;32m   1746\u001B[0m         \u001B[38;5;129;01mor\u001B[39;00m _global_forward_hooks \u001B[38;5;129;01mor\u001B[39;00m _global_forward_pre_hooks):\n\u001B[1;32m-> 1747\u001B[0m     \u001B[38;5;28;01mreturn\u001B[39;00m forward_call(\u001B[38;5;241m*\u001B[39margs, \u001B[38;5;241m*\u001B[39m\u001B[38;5;241m*\u001B[39mkwargs)\n\u001B[0;32m   1749\u001B[0m result \u001B[38;5;241m=\u001B[39m \u001B[38;5;28;01mNone\u001B[39;00m\n\u001B[0;32m   1750\u001B[0m called_always_called_hooks \u001B[38;5;241m=\u001B[39m \u001B[38;5;28mset\u001B[39m()\n",
      "File \u001B[1;32mD:\\thesis_code\\keypoint_dataset_pipeline\\libs\\RoMa\\romatch\\models\\matcher.py:109\u001B[0m, in \u001B[0;36mConvRefiner.forward\u001B[1;34m(self, x, y, flow, scale_factor, logits)\u001B[0m\n\u001B[0;32m    107\u001B[0m autocast_device, autocast_enabled, autocast_dtype \u001B[38;5;241m=\u001B[39m get_autocast_params(x\u001B[38;5;241m.\u001B[39mdevice, enabled\u001B[38;5;241m=\u001B[39m\u001B[38;5;28mself\u001B[39m\u001B[38;5;241m.\u001B[39mamp, dtype\u001B[38;5;241m=\u001B[39m\u001B[38;5;28mself\u001B[39m\u001B[38;5;241m.\u001B[39mamp_dtype)\n\u001B[0;32m    108\u001B[0m \u001B[38;5;28;01mwith\u001B[39;00m torch\u001B[38;5;241m.\u001B[39mautocast(autocast_device, enabled\u001B[38;5;241m=\u001B[39mautocast_enabled, dtype \u001B[38;5;241m=\u001B[39m autocast_dtype):            \n\u001B[1;32m--> 109\u001B[0m     x_hat \u001B[38;5;241m=\u001B[39m F\u001B[38;5;241m.\u001B[39mgrid_sample(y, flow\u001B[38;5;241m.\u001B[39mpermute(\u001B[38;5;241m0\u001B[39m, \u001B[38;5;241m2\u001B[39m, \u001B[38;5;241m3\u001B[39m, \u001B[38;5;241m1\u001B[39m), align_corners\u001B[38;5;241m=\u001B[39m\u001B[38;5;28;01mFalse\u001B[39;00m, mode \u001B[38;5;241m=\u001B[39m \u001B[38;5;28mself\u001B[39m\u001B[38;5;241m.\u001B[39msample_mode)\n\u001B[0;32m    110\u001B[0m     \u001B[38;5;28;01mif\u001B[39;00m \u001B[38;5;28mself\u001B[39m\u001B[38;5;241m.\u001B[39mhas_displacement_emb:\n\u001B[0;32m    111\u001B[0m         im_A_coords \u001B[38;5;241m=\u001B[39m torch\u001B[38;5;241m.\u001B[39mmeshgrid(\n\u001B[0;32m    112\u001B[0m         (\n\u001B[0;32m    113\u001B[0m             torch\u001B[38;5;241m.\u001B[39mlinspace(\u001B[38;5;241m-\u001B[39m\u001B[38;5;241m1\u001B[39m \u001B[38;5;241m+\u001B[39m \u001B[38;5;241m1\u001B[39m \u001B[38;5;241m/\u001B[39m hs, \u001B[38;5;241m1\u001B[39m \u001B[38;5;241m-\u001B[39m \u001B[38;5;241m1\u001B[39m \u001B[38;5;241m/\u001B[39m hs, hs, device\u001B[38;5;241m=\u001B[39mx\u001B[38;5;241m.\u001B[39mdevice),\n\u001B[0;32m    114\u001B[0m             torch\u001B[38;5;241m.\u001B[39mlinspace(\u001B[38;5;241m-\u001B[39m\u001B[38;5;241m1\u001B[39m \u001B[38;5;241m+\u001B[39m \u001B[38;5;241m1\u001B[39m \u001B[38;5;241m/\u001B[39m ws, \u001B[38;5;241m1\u001B[39m \u001B[38;5;241m-\u001B[39m \u001B[38;5;241m1\u001B[39m \u001B[38;5;241m/\u001B[39m ws, ws, device\u001B[38;5;241m=\u001B[39mx\u001B[38;5;241m.\u001B[39mdevice),\n\u001B[0;32m    115\u001B[0m         ), indexing\u001B[38;5;241m=\u001B[39m\u001B[38;5;124m'\u001B[39m\u001B[38;5;124mij\u001B[39m\u001B[38;5;124m'\u001B[39m\n\u001B[0;32m    116\u001B[0m         )\n",
      "File \u001B[1;32m~\\miniconda3\\envs\\kp_env\\Lib\\site-packages\\torch\\nn\\functional.py:4910\u001B[0m, in \u001B[0;36mgrid_sample\u001B[1;34m(input, grid, mode, padding_mode, align_corners)\u001B[0m\n\u001B[0;32m   4902\u001B[0m     warnings\u001B[38;5;241m.\u001B[39mwarn(\n\u001B[0;32m   4903\u001B[0m         \u001B[38;5;124m\"\u001B[39m\u001B[38;5;124mDefault grid_sample and affine_grid behavior has changed \u001B[39m\u001B[38;5;124m\"\u001B[39m\n\u001B[0;32m   4904\u001B[0m         \u001B[38;5;124m\"\u001B[39m\u001B[38;5;124mto align_corners=False since 1.3.0. Please specify \u001B[39m\u001B[38;5;124m\"\u001B[39m\n\u001B[0;32m   4905\u001B[0m         \u001B[38;5;124m\"\u001B[39m\u001B[38;5;124malign_corners=True if the old behavior is desired. \u001B[39m\u001B[38;5;124m\"\u001B[39m\n\u001B[0;32m   4906\u001B[0m         \u001B[38;5;124m\"\u001B[39m\u001B[38;5;124mSee the documentation of grid_sample for details.\u001B[39m\u001B[38;5;124m\"\u001B[39m\n\u001B[0;32m   4907\u001B[0m     )\n\u001B[0;32m   4908\u001B[0m     align_corners \u001B[38;5;241m=\u001B[39m \u001B[38;5;28;01mFalse\u001B[39;00m\n\u001B[1;32m-> 4910\u001B[0m \u001B[38;5;28;01mreturn\u001B[39;00m torch\u001B[38;5;241m.\u001B[39mgrid_sampler(\u001B[38;5;28minput\u001B[39m, grid, mode_enum, padding_mode_enum, align_corners)\n",
      "\u001B[1;31mRuntimeError\u001B[0m: grid_sampler(): expected grid and input to have same batch size, but got input with sizes [0, 512, 63, 63] and grid with sizes [1, 63, 63, 2]"
     ]
    }
   ],
   "execution_count": 4
  },
  {
   "metadata": {},
   "cell_type": "code",
   "source": "",
   "id": "8b89e046ab7f8fef",
   "outputs": [],
   "execution_count": null
  }
 ],
 "metadata": {
  "kernelspec": {
   "display_name": "Python 3",
   "language": "python",
   "name": "python3"
  },
  "language_info": {
   "codemirror_mode": {
    "name": "ipython",
    "version": 2
   },
   "file_extension": ".py",
   "mimetype": "text/x-python",
   "name": "python",
   "nbconvert_exporter": "python",
   "pygments_lexer": "ipython2",
   "version": "2.7.6"
  }
 },
 "nbformat": 4,
 "nbformat_minor": 5
}
