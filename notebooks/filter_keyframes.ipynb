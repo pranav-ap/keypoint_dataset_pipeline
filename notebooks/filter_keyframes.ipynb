{
 "cells": [
  {
   "metadata": {
    "ExecuteTime": {
     "end_time": "2024-12-13T17:30:41.397598Z",
     "start_time": "2024-12-13T17:30:41.393397Z"
    }
   },
   "cell_type": "code",
   "source": [
    "import json\n",
    "import numpy as np\n",
    "import pandas as pd\n",
    "from scipy.spatial.transform import Rotation as R"
   ],
   "id": "551900f236a8c98a",
   "outputs": [],
   "execution_count": 122
  },
  {
   "metadata": {},
   "cell_type": "markdown",
   "source": "# Filenames",
   "id": "ce6f41f7f15c8579"
  },
  {
   "metadata": {
    "ExecuteTime": {
     "end_time": "2024-12-13T17:30:41.482879Z",
     "start_time": "2024-12-13T17:30:41.472784Z"
    }
   },
   "cell_type": "code",
   "source": [
    "files_path = r\"D:\\thesis_code\\datasets\\monado_slam\\MOO07_mapping_easy\\mav0\\cam0\\data.csv\"\n",
    "files = pd.read_csv(files_path, header=0, names=('timestamp', 'filename'))\n",
    "\n",
    "files['timestamp'] = pd.to_datetime(files['timestamp'], unit='ns')\n",
    "files = files.sort_values(by='timestamp').reset_index(drop=True)\n",
    "\n",
    "# files['filename'] = files['filename'].str.replace(\".png\", \"\", regex=False)\n",
    "\n",
    "files.head()"
   ],
   "id": "bad524ec1ba612ea",
   "outputs": [
    {
     "data": {
      "text/plain": [
       "                      timestamp           filename\n",
       "0 1970-01-01 02:24:17.516925124  8657519072990.png\n",
       "1 1970-01-01 02:24:17.550229924  8657552377790.png\n",
       "2 1970-01-01 02:24:17.583504024  8657585651890.png\n",
       "3 1970-01-01 02:24:17.616793524  8657618941390.png\n",
       "4 1970-01-01 02:24:17.650083124  8657652230990.png"
      ],
      "text/html": [
       "<div>\n",
       "<style scoped>\n",
       "    .dataframe tbody tr th:only-of-type {\n",
       "        vertical-align: middle;\n",
       "    }\n",
       "\n",
       "    .dataframe tbody tr th {\n",
       "        vertical-align: top;\n",
       "    }\n",
       "\n",
       "    .dataframe thead th {\n",
       "        text-align: right;\n",
       "    }\n",
       "</style>\n",
       "<table border=\"1\" class=\"dataframe\">\n",
       "  <thead>\n",
       "    <tr style=\"text-align: right;\">\n",
       "      <th></th>\n",
       "      <th>timestamp</th>\n",
       "      <th>filename</th>\n",
       "    </tr>\n",
       "  </thead>\n",
       "  <tbody>\n",
       "    <tr>\n",
       "      <th>0</th>\n",
       "      <td>1970-01-01 02:24:17.516925124</td>\n",
       "      <td>8657519072990.png</td>\n",
       "    </tr>\n",
       "    <tr>\n",
       "      <th>1</th>\n",
       "      <td>1970-01-01 02:24:17.550229924</td>\n",
       "      <td>8657552377790.png</td>\n",
       "    </tr>\n",
       "    <tr>\n",
       "      <th>2</th>\n",
       "      <td>1970-01-01 02:24:17.583504024</td>\n",
       "      <td>8657585651890.png</td>\n",
       "    </tr>\n",
       "    <tr>\n",
       "      <th>3</th>\n",
       "      <td>1970-01-01 02:24:17.616793524</td>\n",
       "      <td>8657618941390.png</td>\n",
       "    </tr>\n",
       "    <tr>\n",
       "      <th>4</th>\n",
       "      <td>1970-01-01 02:24:17.650083124</td>\n",
       "      <td>8657652230990.png</td>\n",
       "    </tr>\n",
       "  </tbody>\n",
       "</table>\n",
       "</div>"
      ]
     },
     "execution_count": 123,
     "metadata": {},
     "output_type": "execute_result"
    }
   ],
   "execution_count": 123
  },
  {
   "metadata": {},
   "cell_type": "markdown",
   "source": "# Ground Truth",
   "id": "433a4b9967d2510"
  },
  {
   "metadata": {
    "ExecuteTime": {
     "end_time": "2024-12-13T17:30:41.533206Z",
     "start_time": "2024-12-13T17:30:41.492884Z"
    }
   },
   "cell_type": "code",
   "source": [
    "gt_path = r'D:\\thesis_code\\datasets\\monado_slam\\MOO07_mapping_easy\\mav0\\gt\\data.csv'\n",
    "\n",
    "gt = pd.read_csv(\n",
    "    gt_path, \n",
    "     header=0, \n",
    "     names=('timestamp', 'px', 'py', 'pz', 'qw', 'qx', 'qy', 'qz')\n",
    ")\n",
    "\n",
    "gt['timestamp'] = pd.to_datetime(gt['timestamp'], unit='ns')\n",
    "gt = gt.sort_values(by='timestamp').reset_index(drop=True)\n",
    "\n",
    "gt.head()"
   ],
   "id": "8d3eb96a33d9ebf",
   "outputs": [
    {
     "data": {
      "text/plain": [
       "                      timestamp       px       py        pz        qw  \\\n",
       "0 1970-01-01 02:24:17.494950908  1.69970 -1.18114 -0.880342 -0.044995   \n",
       "1 1970-01-01 02:24:17.496016256  1.69970 -1.18114 -0.880342 -0.044996   \n",
       "2 1970-01-01 02:24:17.497081665  1.69970 -1.18114 -0.880342 -0.044996   \n",
       "3 1970-01-01 02:24:17.498147354  1.69971 -1.18110 -0.880340 -0.044982   \n",
       "4 1970-01-01 02:24:17.499211132  1.69971 -1.18110 -0.880340 -0.044981   \n",
       "\n",
       "         qx        qy        qz  \n",
       "0  0.937637 -0.003759 -0.344672  \n",
       "1  0.937637 -0.003759 -0.344672  \n",
       "2  0.937637 -0.003759 -0.344671  \n",
       "3  0.937635 -0.003775 -0.344679  \n",
       "4  0.937635 -0.003775 -0.344679  "
      ],
      "text/html": [
       "<div>\n",
       "<style scoped>\n",
       "    .dataframe tbody tr th:only-of-type {\n",
       "        vertical-align: middle;\n",
       "    }\n",
       "\n",
       "    .dataframe tbody tr th {\n",
       "        vertical-align: top;\n",
       "    }\n",
       "\n",
       "    .dataframe thead th {\n",
       "        text-align: right;\n",
       "    }\n",
       "</style>\n",
       "<table border=\"1\" class=\"dataframe\">\n",
       "  <thead>\n",
       "    <tr style=\"text-align: right;\">\n",
       "      <th></th>\n",
       "      <th>timestamp</th>\n",
       "      <th>px</th>\n",
       "      <th>py</th>\n",
       "      <th>pz</th>\n",
       "      <th>qw</th>\n",
       "      <th>qx</th>\n",
       "      <th>qy</th>\n",
       "      <th>qz</th>\n",
       "    </tr>\n",
       "  </thead>\n",
       "  <tbody>\n",
       "    <tr>\n",
       "      <th>0</th>\n",
       "      <td>1970-01-01 02:24:17.494950908</td>\n",
       "      <td>1.69970</td>\n",
       "      <td>-1.18114</td>\n",
       "      <td>-0.880342</td>\n",
       "      <td>-0.044995</td>\n",
       "      <td>0.937637</td>\n",
       "      <td>-0.003759</td>\n",
       "      <td>-0.344672</td>\n",
       "    </tr>\n",
       "    <tr>\n",
       "      <th>1</th>\n",
       "      <td>1970-01-01 02:24:17.496016256</td>\n",
       "      <td>1.69970</td>\n",
       "      <td>-1.18114</td>\n",
       "      <td>-0.880342</td>\n",
       "      <td>-0.044996</td>\n",
       "      <td>0.937637</td>\n",
       "      <td>-0.003759</td>\n",
       "      <td>-0.344672</td>\n",
       "    </tr>\n",
       "    <tr>\n",
       "      <th>2</th>\n",
       "      <td>1970-01-01 02:24:17.497081665</td>\n",
       "      <td>1.69970</td>\n",
       "      <td>-1.18114</td>\n",
       "      <td>-0.880342</td>\n",
       "      <td>-0.044996</td>\n",
       "      <td>0.937637</td>\n",
       "      <td>-0.003759</td>\n",
       "      <td>-0.344671</td>\n",
       "    </tr>\n",
       "    <tr>\n",
       "      <th>3</th>\n",
       "      <td>1970-01-01 02:24:17.498147354</td>\n",
       "      <td>1.69971</td>\n",
       "      <td>-1.18110</td>\n",
       "      <td>-0.880340</td>\n",
       "      <td>-0.044982</td>\n",
       "      <td>0.937635</td>\n",
       "      <td>-0.003775</td>\n",
       "      <td>-0.344679</td>\n",
       "    </tr>\n",
       "    <tr>\n",
       "      <th>4</th>\n",
       "      <td>1970-01-01 02:24:17.499211132</td>\n",
       "      <td>1.69971</td>\n",
       "      <td>-1.18110</td>\n",
       "      <td>-0.880340</td>\n",
       "      <td>-0.044981</td>\n",
       "      <td>0.937635</td>\n",
       "      <td>-0.003775</td>\n",
       "      <td>-0.344679</td>\n",
       "    </tr>\n",
       "  </tbody>\n",
       "</table>\n",
       "</div>"
      ]
     },
     "execution_count": 124,
     "metadata": {},
     "output_type": "execute_result"
    }
   ],
   "execution_count": 124
  },
  {
   "metadata": {},
   "cell_type": "markdown",
   "source": "# Align Filename Row to Latest Ground Truth Row",
   "id": "6d09a497c8781533"
  },
  {
   "metadata": {
    "ExecuteTime": {
     "end_time": "2024-12-13T17:30:41.545873Z",
     "start_time": "2024-12-13T17:30:41.534291Z"
    }
   },
   "cell_type": "code",
   "source": [
    "aligned_df = pd.merge_asof(\n",
    "    files, gt,\n",
    "    on=\"timestamp\",\n",
    "    direction=\"backward\",\n",
    ").dropna()\n",
    "            \n",
    "aligned_df.head()"
   ],
   "id": "9c66671f2f4275ad",
   "outputs": [
    {
     "data": {
      "text/plain": [
       "                      timestamp           filename       px       py  \\\n",
       "0 1970-01-01 02:24:17.516925124  8657519072990.png  1.69969 -1.18112   \n",
       "1 1970-01-01 02:24:17.550229924  8657552377790.png  1.69974 -1.18114   \n",
       "2 1970-01-01 02:24:17.583504024  8657585651890.png  1.69970 -1.18115   \n",
       "3 1970-01-01 02:24:17.616793524  8657618941390.png  1.69972 -1.18115   \n",
       "4 1970-01-01 02:24:17.650083124  8657652230990.png  1.69972 -1.18117   \n",
       "\n",
       "         pz        qw        qx        qy        qz  \n",
       "0 -0.880367 -0.044970  0.937634 -0.003780 -0.344683  \n",
       "1 -0.880359 -0.044961  0.937628 -0.003784 -0.344699  \n",
       "2 -0.880272 -0.044974  0.937616 -0.003818 -0.344731  \n",
       "3 -0.880272 -0.044915  0.937620 -0.003811 -0.344728  \n",
       "4 -0.880289 -0.044902  0.937620 -0.003820 -0.344728  "
      ],
      "text/html": [
       "<div>\n",
       "<style scoped>\n",
       "    .dataframe tbody tr th:only-of-type {\n",
       "        vertical-align: middle;\n",
       "    }\n",
       "\n",
       "    .dataframe tbody tr th {\n",
       "        vertical-align: top;\n",
       "    }\n",
       "\n",
       "    .dataframe thead th {\n",
       "        text-align: right;\n",
       "    }\n",
       "</style>\n",
       "<table border=\"1\" class=\"dataframe\">\n",
       "  <thead>\n",
       "    <tr style=\"text-align: right;\">\n",
       "      <th></th>\n",
       "      <th>timestamp</th>\n",
       "      <th>filename</th>\n",
       "      <th>px</th>\n",
       "      <th>py</th>\n",
       "      <th>pz</th>\n",
       "      <th>qw</th>\n",
       "      <th>qx</th>\n",
       "      <th>qy</th>\n",
       "      <th>qz</th>\n",
       "    </tr>\n",
       "  </thead>\n",
       "  <tbody>\n",
       "    <tr>\n",
       "      <th>0</th>\n",
       "      <td>1970-01-01 02:24:17.516925124</td>\n",
       "      <td>8657519072990.png</td>\n",
       "      <td>1.69969</td>\n",
       "      <td>-1.18112</td>\n",
       "      <td>-0.880367</td>\n",
       "      <td>-0.044970</td>\n",
       "      <td>0.937634</td>\n",
       "      <td>-0.003780</td>\n",
       "      <td>-0.344683</td>\n",
       "    </tr>\n",
       "    <tr>\n",
       "      <th>1</th>\n",
       "      <td>1970-01-01 02:24:17.550229924</td>\n",
       "      <td>8657552377790.png</td>\n",
       "      <td>1.69974</td>\n",
       "      <td>-1.18114</td>\n",
       "      <td>-0.880359</td>\n",
       "      <td>-0.044961</td>\n",
       "      <td>0.937628</td>\n",
       "      <td>-0.003784</td>\n",
       "      <td>-0.344699</td>\n",
       "    </tr>\n",
       "    <tr>\n",
       "      <th>2</th>\n",
       "      <td>1970-01-01 02:24:17.583504024</td>\n",
       "      <td>8657585651890.png</td>\n",
       "      <td>1.69970</td>\n",
       "      <td>-1.18115</td>\n",
       "      <td>-0.880272</td>\n",
       "      <td>-0.044974</td>\n",
       "      <td>0.937616</td>\n",
       "      <td>-0.003818</td>\n",
       "      <td>-0.344731</td>\n",
       "    </tr>\n",
       "    <tr>\n",
       "      <th>3</th>\n",
       "      <td>1970-01-01 02:24:17.616793524</td>\n",
       "      <td>8657618941390.png</td>\n",
       "      <td>1.69972</td>\n",
       "      <td>-1.18115</td>\n",
       "      <td>-0.880272</td>\n",
       "      <td>-0.044915</td>\n",
       "      <td>0.937620</td>\n",
       "      <td>-0.003811</td>\n",
       "      <td>-0.344728</td>\n",
       "    </tr>\n",
       "    <tr>\n",
       "      <th>4</th>\n",
       "      <td>1970-01-01 02:24:17.650083124</td>\n",
       "      <td>8657652230990.png</td>\n",
       "      <td>1.69972</td>\n",
       "      <td>-1.18117</td>\n",
       "      <td>-0.880289</td>\n",
       "      <td>-0.044902</td>\n",
       "      <td>0.937620</td>\n",
       "      <td>-0.003820</td>\n",
       "      <td>-0.344728</td>\n",
       "    </tr>\n",
       "  </tbody>\n",
       "</table>\n",
       "</div>"
      ]
     },
     "execution_count": 125,
     "metadata": {},
     "output_type": "execute_result"
    }
   ],
   "execution_count": 125
  },
  {
   "metadata": {},
   "cell_type": "markdown",
   "source": "# Setting T_i_c0",
   "id": "b643434646d0c40f"
  },
  {
   "metadata": {
    "ExecuteTime": {
     "end_time": "2024-12-13T17:30:41.550758Z",
     "start_time": "2024-12-13T17:30:41.547878Z"
    }
   },
   "cell_type": "code",
   "source": "calib_path = r\"D:/thesis_code/datasets/monado_slam/M_monado_datasets_MO_odyssey_plus_extras_calibration.json\"",
   "id": "929207727134ca2f",
   "outputs": [],
   "execution_count": 126
  },
  {
   "metadata": {
    "ExecuteTime": {
     "end_time": "2024-12-13T17:30:41.572347Z",
     "start_time": "2024-12-13T17:30:41.568804Z"
    }
   },
   "cell_type": "code",
   "source": [
    "with open(calib_path, 'r') as file:\n",
    "    data = json.load(file) \n",
    "    data = data['value0']['T_imu_cam']"
   ],
   "id": "b640063009811332",
   "outputs": [],
   "execution_count": 127
  },
  {
   "metadata": {
    "ExecuteTime": {
     "end_time": "2024-12-13T17:30:41.628926Z",
     "start_time": "2024-12-13T17:30:41.624183Z"
    }
   },
   "cell_type": "code",
   "source": [
    "def to_transformation_matrix(d):\n",
    "    px, py, pz = d['px'], d['py'], d['pz']\n",
    "    qx, qy, qz, qw = d['qx'], d['qy'], d['qz'], d['qw']\n",
    "    \n",
    "    rotation = R.from_quat([qx, qy, qz, qw]).as_matrix()\n",
    "    \n",
    "    # 4x4 transformation matrix\n",
    "    transformation = np.eye(4)  # Identity matrix\n",
    "    transformation[:3, :3] = rotation  # Set rotation\n",
    "    transformation[:3, 3] = [px, py, pz]  # Set translation\n",
    "    \n",
    "    return transformation"
   ],
   "id": "c7939d0617813047",
   "outputs": [],
   "execution_count": 128
  },
  {
   "metadata": {
    "ExecuteTime": {
     "end_time": "2024-12-13T17:30:41.675768Z",
     "start_time": "2024-12-13T17:30:41.670936Z"
    }
   },
   "cell_type": "code",
   "source": [
    "transformation_matrices = [to_transformation_matrix(d) for d in data]\n",
    "\n",
    "T_i_c0 = transformation_matrices[0]\n",
    "T_i_c1 = transformation_matrices[1]\n",
    "\n",
    "T_i_c0"
   ],
   "id": "4065a120b42b12a2",
   "outputs": [
    {
     "data": {
      "text/plain": [
       "array([[ 0.9184477 ,  0.0068145 , -0.39548373, -0.08323389],\n",
       "       [ 0.13570781,  0.93373322,  0.33124865, -0.00221837],\n",
       "       [ 0.37153359, -0.35790479,  0.85666035,  0.00562664],\n",
       "       [ 0.        ,  0.        ,  0.        ,  1.        ]])"
      ]
     },
     "execution_count": 129,
     "metadata": {},
     "output_type": "execute_result"
    }
   ],
   "execution_count": 129
  },
  {
   "metadata": {},
   "cell_type": "markdown",
   "source": "# Find T_w_c0 for 2 timesteps",
   "id": "de369008a9a1dcb3"
  },
  {
   "metadata": {
    "ExecuteTime": {
     "end_time": "2024-12-13T17:30:41.834806Z",
     "start_time": "2024-12-13T17:30:41.752366Z"
    }
   },
   "cell_type": "code",
   "source": [
    "transformation_matrices = [\n",
    "    to_transformation_matrix(entry[1]) \n",
    "    for entry in aligned_df.iterrows()\n",
    "]"
   ],
   "id": "4840241a6b14e36f",
   "outputs": [],
   "execution_count": 130
  },
  {
   "metadata": {
    "ExecuteTime": {
     "end_time": "2024-12-13T17:32:36.825812Z",
     "start_time": "2024-12-13T17:32:36.822681Z"
    }
   },
   "cell_type": "code",
   "source": [
    "T_w_i = transformation_matrices[0]\n",
    "T_w_c0_t1 = T_w_i @ T_i_c0\n",
    "\n",
    "T_w_i = transformation_matrices[500]\n",
    "T_w_c0_t2 = T_w_i @ T_i_c0"
   ],
   "id": "54043c6c1ff408a7",
   "outputs": [],
   "execution_count": 135
  },
  {
   "metadata": {},
   "cell_type": "markdown",
   "source": "# Find Angle between them",
   "id": "59ba14b93607e279"
  },
  {
   "metadata": {
    "ExecuteTime": {
     "end_time": "2024-12-13T17:32:37.393411Z",
     "start_time": "2024-12-13T17:32:37.388909Z"
    }
   },
   "cell_type": "code",
   "source": [
    "R_t1 = T_w_c0_t1[:3, :3]\n",
    "R_t2 = T_w_c0_t2[:3, :3]\n",
    "\n",
    "R_relative = np.linalg.inv(R_t1) @ R_t2\n",
    "\n",
    "euler_angles = R.from_matrix(R_relative).as_euler('xyz', degrees=True) \n",
    "\n",
    "print(\"Angles : \", euler_angles)"
   ],
   "id": "36d6898d0121328d",
   "outputs": [
    {
     "name": "stdout",
     "output_type": "stream",
     "text": [
      "Angles :  [-3.52622663 39.82024626 25.43582763]\n"
     ]
    }
   ],
   "execution_count": 136
  },
  {
   "metadata": {
    "ExecuteTime": {
     "end_time": "2024-12-13T17:41:21.903415Z",
     "start_time": "2024-12-13T17:41:21.898497Z"
    }
   },
   "cell_type": "code",
   "source": "np.linalg.norm(euler_angles)",
   "id": "30380d1d57f27bbb",
   "outputs": [
    {
     "data": {
      "text/plain": [
       "47.3821444603981"
      ]
     },
     "execution_count": 137,
     "metadata": {},
     "output_type": "execute_result"
    }
   ],
   "execution_count": 137
  },
  {
   "metadata": {},
   "cell_type": "code",
   "outputs": [],
   "execution_count": null,
   "source": "",
   "id": "f4c42ca3ddffbbea"
  }
 ],
 "metadata": {
  "kernelspec": {
   "display_name": "Python 3",
   "language": "python",
   "name": "python3"
  },
  "language_info": {
   "codemirror_mode": {
    "name": "ipython",
    "version": 2
   },
   "file_extension": ".py",
   "mimetype": "text/x-python",
   "name": "python",
   "nbconvert_exporter": "python",
   "pygments_lexer": "ipython2",
   "version": "2.7.6"
  }
 },
 "nbformat": 4,
 "nbformat_minor": 5
}
