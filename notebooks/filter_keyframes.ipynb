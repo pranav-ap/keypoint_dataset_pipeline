{
 "cells": [
  {
   "cell_type": "code",
   "id": "initial_id",
   "metadata": {
    "collapsed": true,
    "ExecuteTime": {
     "end_time": "2024-12-08T12:30:50.481459Z",
     "start_time": "2024-12-08T12:30:50.471216Z"
    }
   },
   "source": "import pandas as pd",
   "outputs": [],
   "execution_count": 13
  },
  {
   "metadata": {
    "ExecuteTime": {
     "end_time": "2024-12-08T12:30:50.546445Z",
     "start_time": "2024-12-08T12:30:50.511195Z"
    }
   },
   "cell_type": "code",
   "source": [
    "files_path = r\"D:\\thesis_code\\datasets\\monado_slam\\MOO09_short_1_updown\\mav0\\cam0\\data.csv\"\n",
    "files = pd.read_csv(files_path, header=0, names=('timestamp', 'filename'))\n",
    "\n",
    "files['timestamp'] = pd.to_datetime(files['timestamp'], unit='ns')\n",
    "files = files.sort_values(by='timestamp').reset_index(drop=True)\n",
    "\n",
    "# files['filename'] = files['filename'].str.replace(\".png\", \"\", regex=False)\n",
    "\n",
    "files.head()"
   ],
   "id": "5e8207834f562b73",
   "outputs": [
    {
     "data": {
      "text/plain": [
       "                      timestamp           filename\n",
       "0 1970-01-01 02:28:52.918475306  8932922082890.png\n",
       "1 1970-01-01 02:28:52.951768806  8932955376390.png\n",
       "2 1970-01-01 02:28:52.985054406  8932988661990.png\n",
       "3 1970-01-01 02:28:53.018343106  8933021950690.png\n",
       "4 1970-01-01 02:28:53.051633206  8933055240790.png"
      ],
      "text/html": [
       "<div>\n",
       "<style scoped>\n",
       "    .dataframe tbody tr th:only-of-type {\n",
       "        vertical-align: middle;\n",
       "    }\n",
       "\n",
       "    .dataframe tbody tr th {\n",
       "        vertical-align: top;\n",
       "    }\n",
       "\n",
       "    .dataframe thead th {\n",
       "        text-align: right;\n",
       "    }\n",
       "</style>\n",
       "<table border=\"1\" class=\"dataframe\">\n",
       "  <thead>\n",
       "    <tr style=\"text-align: right;\">\n",
       "      <th></th>\n",
       "      <th>timestamp</th>\n",
       "      <th>filename</th>\n",
       "    </tr>\n",
       "  </thead>\n",
       "  <tbody>\n",
       "    <tr>\n",
       "      <th>0</th>\n",
       "      <td>1970-01-01 02:28:52.918475306</td>\n",
       "      <td>8932922082890.png</td>\n",
       "    </tr>\n",
       "    <tr>\n",
       "      <th>1</th>\n",
       "      <td>1970-01-01 02:28:52.951768806</td>\n",
       "      <td>8932955376390.png</td>\n",
       "    </tr>\n",
       "    <tr>\n",
       "      <th>2</th>\n",
       "      <td>1970-01-01 02:28:52.985054406</td>\n",
       "      <td>8932988661990.png</td>\n",
       "    </tr>\n",
       "    <tr>\n",
       "      <th>3</th>\n",
       "      <td>1970-01-01 02:28:53.018343106</td>\n",
       "      <td>8933021950690.png</td>\n",
       "    </tr>\n",
       "    <tr>\n",
       "      <th>4</th>\n",
       "      <td>1970-01-01 02:28:53.051633206</td>\n",
       "      <td>8933055240790.png</td>\n",
       "    </tr>\n",
       "  </tbody>\n",
       "</table>\n",
       "</div>"
      ]
     },
     "execution_count": 14,
     "metadata": {},
     "output_type": "execute_result"
    }
   ],
   "execution_count": 14
  },
  {
   "metadata": {
    "ExecuteTime": {
     "end_time": "2024-12-08T12:30:50.700756Z",
     "start_time": "2024-12-08T12:30:50.642325Z"
    }
   },
   "cell_type": "code",
   "source": [
    "imu_data = r\"D:\\thesis_code\\datasets\\monado_slam\\MOO09_short_1_updown\\mav0\\imu0\\data.csv\"\n",
    "imu = pd.read_csv(imu_data, header=0, names=('timestamp', 'w_x', 'w_y', 'w_z', 'a_x', 'a_y', 'a_z'))\n",
    "\n",
    "imu['timestamp'] = pd.to_datetime(imu['timestamp'], unit='ns')\n",
    "imu = imu.sort_values(by='timestamp').reset_index(drop=True)\n",
    "\n",
    "imu.head()"
   ],
   "id": "3b0c869817c4e92e",
   "outputs": [
    {
     "data": {
      "text/plain": [
       "                      timestamp       w_x       w_y       w_z       a_x  \\\n",
       "0 1970-01-01 02:28:52.901950490 -0.000369  0.004397 -0.001464  0.123065   \n",
       "1 1970-01-01 02:28:52.902950490  0.000105 -0.007764 -0.000544  0.094332   \n",
       "2 1970-01-01 02:28:52.903945790 -0.005528  0.001141  0.001416  0.070552   \n",
       "3 1970-01-01 02:28:52.904940990 -0.002633  0.003527 -0.001462  0.080460   \n",
       "4 1970-01-01 02:28:52.905931390 -0.002565 -0.021168  0.000377  0.070552   \n",
       "\n",
       "        a_y       a_z  \n",
       "0 -9.648608  0.983212  \n",
       "1 -9.667434  0.973387  \n",
       "2 -9.667416  0.988196  \n",
       "3 -9.629730  1.020720  \n",
       "4 -9.614844  1.002034  "
      ],
      "text/html": [
       "<div>\n",
       "<style scoped>\n",
       "    .dataframe tbody tr th:only-of-type {\n",
       "        vertical-align: middle;\n",
       "    }\n",
       "\n",
       "    .dataframe tbody tr th {\n",
       "        vertical-align: top;\n",
       "    }\n",
       "\n",
       "    .dataframe thead th {\n",
       "        text-align: right;\n",
       "    }\n",
       "</style>\n",
       "<table border=\"1\" class=\"dataframe\">\n",
       "  <thead>\n",
       "    <tr style=\"text-align: right;\">\n",
       "      <th></th>\n",
       "      <th>timestamp</th>\n",
       "      <th>w_x</th>\n",
       "      <th>w_y</th>\n",
       "      <th>w_z</th>\n",
       "      <th>a_x</th>\n",
       "      <th>a_y</th>\n",
       "      <th>a_z</th>\n",
       "    </tr>\n",
       "  </thead>\n",
       "  <tbody>\n",
       "    <tr>\n",
       "      <th>0</th>\n",
       "      <td>1970-01-01 02:28:52.901950490</td>\n",
       "      <td>-0.000369</td>\n",
       "      <td>0.004397</td>\n",
       "      <td>-0.001464</td>\n",
       "      <td>0.123065</td>\n",
       "      <td>-9.648608</td>\n",
       "      <td>0.983212</td>\n",
       "    </tr>\n",
       "    <tr>\n",
       "      <th>1</th>\n",
       "      <td>1970-01-01 02:28:52.902950490</td>\n",
       "      <td>0.000105</td>\n",
       "      <td>-0.007764</td>\n",
       "      <td>-0.000544</td>\n",
       "      <td>0.094332</td>\n",
       "      <td>-9.667434</td>\n",
       "      <td>0.973387</td>\n",
       "    </tr>\n",
       "    <tr>\n",
       "      <th>2</th>\n",
       "      <td>1970-01-01 02:28:52.903945790</td>\n",
       "      <td>-0.005528</td>\n",
       "      <td>0.001141</td>\n",
       "      <td>0.001416</td>\n",
       "      <td>0.070552</td>\n",
       "      <td>-9.667416</td>\n",
       "      <td>0.988196</td>\n",
       "    </tr>\n",
       "    <tr>\n",
       "      <th>3</th>\n",
       "      <td>1970-01-01 02:28:52.904940990</td>\n",
       "      <td>-0.002633</td>\n",
       "      <td>0.003527</td>\n",
       "      <td>-0.001462</td>\n",
       "      <td>0.080460</td>\n",
       "      <td>-9.629730</td>\n",
       "      <td>1.020720</td>\n",
       "    </tr>\n",
       "    <tr>\n",
       "      <th>4</th>\n",
       "      <td>1970-01-01 02:28:52.905931390</td>\n",
       "      <td>-0.002565</td>\n",
       "      <td>-0.021168</td>\n",
       "      <td>0.000377</td>\n",
       "      <td>0.070552</td>\n",
       "      <td>-9.614844</td>\n",
       "      <td>1.002034</td>\n",
       "    </tr>\n",
       "  </tbody>\n",
       "</table>\n",
       "</div>"
      ]
     },
     "execution_count": 15,
     "metadata": {},
     "output_type": "execute_result"
    }
   ],
   "execution_count": 15
  },
  {
   "metadata": {
    "ExecuteTime": {
     "end_time": "2024-12-08T12:35:14.337014Z",
     "start_time": "2024-12-08T12:35:14.299369Z"
    }
   },
   "cell_type": "code",
   "source": [
    "aligned_df = pd.merge_asof(\n",
    "    files, imu,\n",
    "    on=\"timestamp\",\n",
    "    direction=\"backward\",\n",
    "    suffixes=('', '_imu')\n",
    ")\n",
    "\n",
    "aligned_df = aligned_df.dropna()\n",
    "            \n",
    "aligned_df.head()"
   ],
   "id": "3492795f57dabb4f",
   "outputs": [
    {
     "data": {
      "text/plain": [
       "                      timestamp           filename       w_x       w_y  \\\n",
       "0 1970-01-01 02:28:52.918475306  8932922082890.png -0.000267 -0.005650   \n",
       "1 1970-01-01 02:28:52.951768806  8932955376390.png -0.000812 -0.023538   \n",
       "2 1970-01-01 02:28:52.985054406  8932988661990.png -0.001171 -0.016299   \n",
       "3 1970-01-01 02:28:53.018343106  8933021950690.png -0.000652 -0.009134   \n",
       "4 1970-01-01 02:28:53.051633206  8933055240790.png  0.000324 -0.021574   \n",
       "\n",
       "        w_z       a_x       a_y       a_z  \n",
       "0  0.002608  0.051727 -9.677321  1.035494  \n",
       "1 -0.002782  0.037855 -9.701117  1.011853  \n",
       "2  0.002915  0.027947 -9.638619  1.035563  \n",
       "3 -0.001680  0.080460 -9.658495  1.001980  \n",
       "4  0.004129  0.032901 -9.738807  0.988187  "
      ],
      "text/html": [
       "<div>\n",
       "<style scoped>\n",
       "    .dataframe tbody tr th:only-of-type {\n",
       "        vertical-align: middle;\n",
       "    }\n",
       "\n",
       "    .dataframe tbody tr th {\n",
       "        vertical-align: top;\n",
       "    }\n",
       "\n",
       "    .dataframe thead th {\n",
       "        text-align: right;\n",
       "    }\n",
       "</style>\n",
       "<table border=\"1\" class=\"dataframe\">\n",
       "  <thead>\n",
       "    <tr style=\"text-align: right;\">\n",
       "      <th></th>\n",
       "      <th>timestamp</th>\n",
       "      <th>filename</th>\n",
       "      <th>w_x</th>\n",
       "      <th>w_y</th>\n",
       "      <th>w_z</th>\n",
       "      <th>a_x</th>\n",
       "      <th>a_y</th>\n",
       "      <th>a_z</th>\n",
       "    </tr>\n",
       "  </thead>\n",
       "  <tbody>\n",
       "    <tr>\n",
       "      <th>0</th>\n",
       "      <td>1970-01-01 02:28:52.918475306</td>\n",
       "      <td>8932922082890.png</td>\n",
       "      <td>-0.000267</td>\n",
       "      <td>-0.005650</td>\n",
       "      <td>0.002608</td>\n",
       "      <td>0.051727</td>\n",
       "      <td>-9.677321</td>\n",
       "      <td>1.035494</td>\n",
       "    </tr>\n",
       "    <tr>\n",
       "      <th>1</th>\n",
       "      <td>1970-01-01 02:28:52.951768806</td>\n",
       "      <td>8932955376390.png</td>\n",
       "      <td>-0.000812</td>\n",
       "      <td>-0.023538</td>\n",
       "      <td>-0.002782</td>\n",
       "      <td>0.037855</td>\n",
       "      <td>-9.701117</td>\n",
       "      <td>1.011853</td>\n",
       "    </tr>\n",
       "    <tr>\n",
       "      <th>2</th>\n",
       "      <td>1970-01-01 02:28:52.985054406</td>\n",
       "      <td>8932988661990.png</td>\n",
       "      <td>-0.001171</td>\n",
       "      <td>-0.016299</td>\n",
       "      <td>0.002915</td>\n",
       "      <td>0.027947</td>\n",
       "      <td>-9.638619</td>\n",
       "      <td>1.035563</td>\n",
       "    </tr>\n",
       "    <tr>\n",
       "      <th>3</th>\n",
       "      <td>1970-01-01 02:28:53.018343106</td>\n",
       "      <td>8933021950690.png</td>\n",
       "      <td>-0.000652</td>\n",
       "      <td>-0.009134</td>\n",
       "      <td>-0.001680</td>\n",
       "      <td>0.080460</td>\n",
       "      <td>-9.658495</td>\n",
       "      <td>1.001980</td>\n",
       "    </tr>\n",
       "    <tr>\n",
       "      <th>4</th>\n",
       "      <td>1970-01-01 02:28:53.051633206</td>\n",
       "      <td>8933055240790.png</td>\n",
       "      <td>0.000324</td>\n",
       "      <td>-0.021574</td>\n",
       "      <td>0.004129</td>\n",
       "      <td>0.032901</td>\n",
       "      <td>-9.738807</td>\n",
       "      <td>0.988187</td>\n",
       "    </tr>\n",
       "  </tbody>\n",
       "</table>\n",
       "</div>"
      ]
     },
     "execution_count": 20,
     "metadata": {},
     "output_type": "execute_result"
    }
   ],
   "execution_count": 20
  },
  {
   "metadata": {
    "ExecuteTime": {
     "end_time": "2024-12-08T12:41:27.516524Z",
     "start_time": "2024-12-08T12:41:27.498471Z"
    }
   },
   "cell_type": "code",
   "source": "aligned_df['timestamp'].diff().dt.total_seconds()",
   "id": "47323a037ec7355f",
   "outputs": [
    {
     "data": {
      "text/plain": [
       "0           NaN\n",
       "1      0.033293\n",
       "2      0.033286\n",
       "3      0.033289\n",
       "4      0.033290\n",
       "         ...   \n",
       "142    0.033290\n",
       "143    0.033291\n",
       "144    0.033287\n",
       "145    0.033290\n",
       "146    0.033294\n",
       "Name: timestamp, Length: 147, dtype: float64"
      ]
     },
     "execution_count": 22,
     "metadata": {},
     "output_type": "execute_result"
    }
   ],
   "execution_count": 22
  },
  {
   "metadata": {
    "ExecuteTime": {
     "end_time": "2024-12-08T12:30:50.907375Z",
     "start_time": "2024-12-08T12:30:50.901337Z"
    }
   },
   "cell_type": "code",
   "source": "aligned_df['dt'] = aligned_df['timestamp'].diff().dt.total_seconds()",
   "id": "44fa8bc15a331cb9",
   "outputs": [],
   "execution_count": 16
  }
 ],
 "metadata": {
  "kernelspec": {
   "display_name": "Python 3",
   "language": "python",
   "name": "python3"
  },
  "language_info": {
   "codemirror_mode": {
    "name": "ipython",
    "version": 2
   },
   "file_extension": ".py",
   "mimetype": "text/x-python",
   "name": "python",
   "nbconvert_exporter": "python",
   "pygments_lexer": "ipython2",
   "version": "2.7.6"
  }
 },
 "nbformat": 4,
 "nbformat_minor": 5
}
