{
 "cells": [
  {
   "cell_type": "code",
   "execution_count": 2,
   "metadata": {},
   "outputs": [],
   "source": [
    "from filter_keyframes import read_images_csv"
   ]
  },
  {
   "cell_type": "code",
   "execution_count": 3,
   "metadata": {},
   "outputs": [],
   "source": [
    "files = read_images_csv()"
   ]
  },
  {
   "cell_type": "code",
   "execution_count": 4,
   "metadata": {},
   "outputs": [
    {
     "data": {
      "text/html": [
       "<div>\n",
       "<style scoped>\n",
       "    .dataframe tbody tr th:only-of-type {\n",
       "        vertical-align: middle;\n",
       "    }\n",
       "\n",
       "    .dataframe tbody tr th {\n",
       "        vertical-align: top;\n",
       "    }\n",
       "\n",
       "    .dataframe thead th {\n",
       "        text-align: right;\n",
       "    }\n",
       "</style>\n",
       "<table border=\"1\" class=\"dataframe\">\n",
       "  <thead>\n",
       "    <tr style=\"text-align: right;\">\n",
       "      <th></th>\n",
       "      <th>timestamp</th>\n",
       "      <th>filename</th>\n",
       "      <th>ts</th>\n",
       "    </tr>\n",
       "  </thead>\n",
       "  <tbody>\n",
       "    <tr>\n",
       "      <th>0</th>\n",
       "      <td>8932918475306</td>\n",
       "      <td>8932922082890.png</td>\n",
       "      <td>1970-01-01 02:28:52.918475306</td>\n",
       "    </tr>\n",
       "    <tr>\n",
       "      <th>1</th>\n",
       "      <td>8932951768806</td>\n",
       "      <td>8932955376390.png</td>\n",
       "      <td>1970-01-01 02:28:52.951768806</td>\n",
       "    </tr>\n",
       "    <tr>\n",
       "      <th>2</th>\n",
       "      <td>8932985054406</td>\n",
       "      <td>8932988661990.png</td>\n",
       "      <td>1970-01-01 02:28:52.985054406</td>\n",
       "    </tr>\n",
       "    <tr>\n",
       "      <th>3</th>\n",
       "      <td>8933018343106</td>\n",
       "      <td>8933021950690.png</td>\n",
       "      <td>1970-01-01 02:28:53.018343106</td>\n",
       "    </tr>\n",
       "    <tr>\n",
       "      <th>4</th>\n",
       "      <td>8933051633206</td>\n",
       "      <td>8933055240790.png</td>\n",
       "      <td>1970-01-01 02:28:53.051633206</td>\n",
       "    </tr>\n",
       "    <tr>\n",
       "      <th>...</th>\n",
       "      <td>...</td>\n",
       "      <td>...</td>\n",
       "      <td>...</td>\n",
       "    </tr>\n",
       "    <tr>\n",
       "      <th>142</th>\n",
       "      <td>8937645567106</td>\n",
       "      <td>8937649174690.png</td>\n",
       "      <td>1970-01-01 02:28:57.645567106</td>\n",
       "    </tr>\n",
       "    <tr>\n",
       "      <th>143</th>\n",
       "      <td>8937678857706</td>\n",
       "      <td>8937682465290.png</td>\n",
       "      <td>1970-01-01 02:28:57.678857706</td>\n",
       "    </tr>\n",
       "    <tr>\n",
       "      <th>144</th>\n",
       "      <td>8937712144706</td>\n",
       "      <td>8937715752290.png</td>\n",
       "      <td>1970-01-01 02:28:57.712144706</td>\n",
       "    </tr>\n",
       "    <tr>\n",
       "      <th>145</th>\n",
       "      <td>8937745434906</td>\n",
       "      <td>8937749042490.png</td>\n",
       "      <td>1970-01-01 02:28:57.745434906</td>\n",
       "    </tr>\n",
       "    <tr>\n",
       "      <th>146</th>\n",
       "      <td>8937778728806</td>\n",
       "      <td>8937782336390.png</td>\n",
       "      <td>1970-01-01 02:28:57.778728806</td>\n",
       "    </tr>\n",
       "  </tbody>\n",
       "</table>\n",
       "<p>147 rows × 3 columns</p>\n",
       "</div>"
      ],
      "text/plain": [
       "         timestamp           filename                            ts\n",
       "0    8932918475306  8932922082890.png 1970-01-01 02:28:52.918475306\n",
       "1    8932951768806  8932955376390.png 1970-01-01 02:28:52.951768806\n",
       "2    8932985054406  8932988661990.png 1970-01-01 02:28:52.985054406\n",
       "3    8933018343106  8933021950690.png 1970-01-01 02:28:53.018343106\n",
       "4    8933051633206  8933055240790.png 1970-01-01 02:28:53.051633206\n",
       "..             ...                ...                           ...\n",
       "142  8937645567106  8937649174690.png 1970-01-01 02:28:57.645567106\n",
       "143  8937678857706  8937682465290.png 1970-01-01 02:28:57.678857706\n",
       "144  8937712144706  8937715752290.png 1970-01-01 02:28:57.712144706\n",
       "145  8937745434906  8937749042490.png 1970-01-01 02:28:57.745434906\n",
       "146  8937778728806  8937782336390.png 1970-01-01 02:28:57.778728806\n",
       "\n",
       "[147 rows x 3 columns]"
      ]
     },
     "execution_count": 4,
     "metadata": {},
     "output_type": "execute_result"
    }
   ],
   "source": [
    "files"
   ]
  },
  {
   "cell_type": "code",
   "execution_count": 8,
   "metadata": {},
   "outputs": [],
   "source": [
    "from pathlib import Path\n",
    "import os\n",
    "from config import config\n",
    "\n",
    "for filename in files['filename']:\n",
    "    # image_name = Path(filename.strip()).stem \n",
    "    image_path = f\"{config.paths[config.task.name].images}/{filename}\"\n",
    "    assert os.path.exists(image_path), f\"Does not exist: {image_path}\"\n"
   ]
  },
  {
   "cell_type": "code",
   "execution_count": 11,
   "metadata": {},
   "outputs": [
    {
     "name": "stdout",
     "output_type": "stream",
     "text": [
      "         timestamp           filename                            ts\n",
      "0    8932918475306  8932922082890.png 1970-01-01 02:28:52.918475306\n",
      "1    8932951768806  8932955376390.png 1970-01-01 02:28:52.951768806\n",
      "2    8932985054406  8932988661990.png 1970-01-01 02:28:52.985054406\n",
      "3    8933018343106  8933021950690.png 1970-01-01 02:28:53.018343106\n",
      "4    8933051633206  8933055240790.png 1970-01-01 02:28:53.051633206\n",
      "..             ...                ...                           ...\n",
      "142  8937645567106  8937649174690.png 1970-01-01 02:28:57.645567106\n",
      "143  8937678857706  8937682465290.png 1970-01-01 02:28:57.678857706\n",
      "144  8937712144706  8937715752290.png 1970-01-01 02:28:57.712144706\n",
      "145  8937745434906  8937749042490.png 1970-01-01 02:28:57.745434906\n",
      "146  8937778728806  8937782336390.png 1970-01-01 02:28:57.778728806\n",
      "\n",
      "[147 rows x 3 columns]\n"
     ]
    }
   ],
   "source": [
    "def image_exists(filename):\n",
    "    image_path = Path(f\"{config.paths[config.task.name].images}/{filename.strip()}\")\n",
    "    return image_path.exists()\n",
    "\n",
    "filtered_files = files[files['filename'].apply(image_exists)].reset_index(drop=True)\n",
    "\n",
    "print(filtered_files)\n"
   ]
  },
  {
   "cell_type": "code",
   "execution_count": 1,
   "metadata": {},
   "outputs": [
    {
     "data": {
      "text/plain": [
       "1145.9155902616465"
      ]
     },
     "execution_count": 1,
     "metadata": {},
     "output_type": "execute_result"
    }
   ],
   "source": [
    "import numpy as np\n",
    "20 * 180 / np.pi"
   ]
  },
  {
   "cell_type": "code",
   "execution_count": 2,
   "metadata": {},
   "outputs": [
    {
     "data": {
      "text/plain": [
       "0.3490658503988659"
      ]
     },
     "execution_count": 2,
     "metadata": {},
     "output_type": "execute_result"
    }
   ],
   "source": [
    "20 * np.pi / 180"
   ]
  },
  {
   "cell_type": "code",
   "execution_count": 9,
   "metadata": {},
   "outputs": [],
   "source": [
    "import json\n",
    "calib_path = r\"/home/stud/ath/ath_ws/datasets/monado_slam/calib/MO_calibration.json\"\n",
    "with open(calib_path, 'r') as file:\n",
    "    data = json.load(file)\n",
    "    data1 = data['value0']['T_imu_cam']\n",
    "    intrinsics = data['value0']['intrinsics']"
   ]
  },
  {
   "cell_type": "code",
   "execution_count": 10,
   "metadata": {},
   "outputs": [
    {
     "data": {
      "text/plain": [
       "[{'camera_type': 'pinhole-radtan8',\n",
       "  'intrinsics': {'fx': 269.3157388466649,\n",
       "   'fy': 269.2500852335917,\n",
       "   'cx': 323.6367354444056,\n",
       "   'cy': 245.37262901935367,\n",
       "   'k1': 0.4896735773708656,\n",
       "   'k2': 0.15364417808237318,\n",
       "   'p1': -0.00023052089722471787,\n",
       "   'p2': 0.0003100581060316594,\n",
       "   'k3': 0.00907202623907521,\n",
       "   'k4': 0.760924032106806,\n",
       "   'k5': 0.1699934621377647,\n",
       "   'k6': 0.040322943929294,\n",
       "   'rpmax': 0.0}},\n",
       " {'camera_type': 'pinhole-radtan8',\n",
       "  'intrinsics': {'fx': 270.6592897084914,\n",
       "   'fy': 270.6889084240239,\n",
       "   'cx': 323.6443046844411,\n",
       "   'cy': 250.56110650729707,\n",
       "   'k1': 0.5124456275983791,\n",
       "   'k2': 0.1183716939017548,\n",
       "   'p1': 6.664706390223596e-05,\n",
       "   'p2': 0.0008408430780571384,\n",
       "   'k3': 0.011001285241218404,\n",
       "   'k4': 0.7946602801800285,\n",
       "   'k5': 0.1281440933685308,\n",
       "   'k6': 0.039739477209162065,\n",
       "   'rpmax': 0.0}}]"
      ]
     },
     "execution_count": 10,
     "metadata": {},
     "output_type": "execute_result"
    }
   ],
   "source": [
    "intrinsics"
   ]
  },
  {
   "cell_type": "code",
   "execution_count": null,
   "metadata": {},
   "outputs": [],
   "source": []
  }
 ],
 "metadata": {
  "kernelspec": {
   "display_name": "kd_pipeline",
   "language": "python",
   "name": "python3"
  },
  "language_info": {
   "codemirror_mode": {
    "name": "ipython",
    "version": 3
   },
   "file_extension": ".py",
   "mimetype": "text/x-python",
   "name": "python",
   "nbconvert_exporter": "python",
   "pygments_lexer": "ipython3",
   "version": "3.12.7"
  }
 },
 "nbformat": 4,
 "nbformat_minor": 2
}
