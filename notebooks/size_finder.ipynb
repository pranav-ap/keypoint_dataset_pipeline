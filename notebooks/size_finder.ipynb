{
 "cells": [
  {
   "metadata": {
    "ExecuteTime": {
     "end_time": "2024-11-14T12:41:50.118547Z",
     "start_time": "2024-11-14T12:41:50.087417Z"
    }
   },
   "cell_type": "code",
   "source": [
    "def find_smaller_dimensions(w, h):\n",
    "    # Find the largest multiples of 14 less than or equal to w and h\n",
    "    new_w = w - (w % 14)\n",
    "    new_h = h - (h % 14)\n",
    "\n",
    "    return new_w, new_h\n",
    "\n",
    "original_w, original_h = 640, 480\n",
    "cropped_w, cropped_h = find_smaller_dimensions(original_w, original_h)\n",
    "cropped_w, cropped_h"
   ],
   "outputs": [
    {
     "data": {
      "text/plain": [
       "(630, 476)"
      ]
     },
     "execution_count": 1,
     "metadata": {},
     "output_type": "execute_result"
    }
   ],
   "execution_count": 1
  },
  {
   "metadata": {
    "ExecuteTime": {
     "end_time": "2024-11-14T12:42:58.686432Z",
     "start_time": "2024-11-14T12:42:58.668646Z"
    }
   },
   "cell_type": "code",
   "source": [
    "def find_smaller_dimensions(w, h, patch_size_w, patch_size_h):\n",
    "    new_w = (w // patch_size_w) * patch_size_w\n",
    "    new_h = (h // patch_size_h) * patch_size_h\n",
    "    return new_w, new_h\n",
    "\n",
    "patch_size_w = 14 * 9\n",
    "patch_size_h = 14 * 6\n",
    "print(f'Patch Size : {patch_size_w, patch_size_h}')\n",
    "\n",
    "find_smaller_dimensions(cropped_w, cropped_h, patch_size_w, patch_size_h)"
   ],
   "outputs": [
    {
     "name": "stdout",
     "output_type": "stream",
     "text": [
      "Patch Size : (126, 84)\n"
     ]
    },
    {
     "data": {
      "text/plain": [
       "(630, 420)"
      ]
     },
     "execution_count": 3,
     "metadata": {},
     "output_type": "execute_result"
    }
   ],
   "execution_count": 3
  },
  {
   "metadata": {
    "ExecuteTime": {
     "end_time": "2024-11-14T12:41:50.159622Z",
     "start_time": "2024-11-14T12:41:50.153444Z"
    }
   },
   "cell_type": "code",
   "source": "",
   "outputs": [],
   "execution_count": 2
  }
 ],
 "metadata": {
  "kernelspec": {
   "display_name": "kd_pipeline",
   "language": "python",
   "name": "python3"
  },
  "language_info": {
   "codemirror_mode": {
    "name": "ipython",
    "version": 3
   },
   "file_extension": ".py",
   "mimetype": "text/x-python",
   "name": "python",
   "nbconvert_exporter": "python",
   "pygments_lexer": "ipython3",
   "version": "3.12.7"
  }
 },
 "nbformat": 4,
 "nbformat_minor": 2
}
