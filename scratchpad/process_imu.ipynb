{
 "cells": [
  {
   "cell_type": "code",
   "metadata": {
    "ExecuteTime": {
     "end_time": "2024-11-09T19:47:26.904398Z",
     "start_time": "2024-11-09T19:47:23.366512Z"
    }
   },
   "source": [
    "import pandas as pd"
   ],
   "outputs": [],
   "execution_count": 1
  },
  {
   "metadata": {
    "ExecuteTime": {
     "end_time": "2024-11-09T21:48:34.381972Z",
     "start_time": "2024-11-09T21:48:34.285877Z"
    }
   },
   "cell_type": "code",
   "source": [
    "df_imu = pd.read_csv(\n",
    "    \"D:/thesis_code/data/EuRoC/MOO11_short_3_backandforth/mav0/imu0/data.csv\",\n",
    "    header=0,\n",
    "    names=(\n",
    "        'timestamp', \n",
    "        'accel_x', 'accel_y', 'accel_z', \n",
    "        'gyro_x', 'gyro_y', 'gyro_z'\n",
    "    )\n",
    ")\n",
    "\n",
    "df_imu['timestamp'] = pd.to_datetime(df_imu['timestamp'], unit='ns')\n",
    "\n",
    "df_imu.head()"
   ],
   "outputs": [
    {
     "data": {
      "text/plain": [
       "                      timestamp   accel_x   accel_y   accel_z    gyro_x  \\\n",
       "0 1970-01-01 02:29:48.972303690 -0.003026 -0.003380  0.001754  0.051727   \n",
       "1 1970-01-01 02:29:48.973303690  0.002137  0.000993  0.000764  0.051727   \n",
       "2 1970-01-01 02:29:48.974298990 -0.001732  0.012570 -0.005921  0.037855   \n",
       "3 1970-01-01 02:29:48.975294190  0.000958 -0.019189  0.003014  0.037855   \n",
       "4 1970-01-01 02:29:48.976284590  0.001921  0.016278  0.001371  0.041819   \n",
       "\n",
       "     gyro_y    gyro_z  \n",
       "0 -9.677321  1.002005  \n",
       "1 -9.667402  0.973449  \n",
       "2 -9.643586  0.988266  \n",
       "3 -9.610852  0.988295  \n",
       "4 -9.595976  0.993228  "
      ],
      "text/html": [
       "<div>\n",
       "<style scoped>\n",
       "    .dataframe tbody tr th:only-of-type {\n",
       "        vertical-align: middle;\n",
       "    }\n",
       "\n",
       "    .dataframe tbody tr th {\n",
       "        vertical-align: top;\n",
       "    }\n",
       "\n",
       "    .dataframe thead th {\n",
       "        text-align: right;\n",
       "    }\n",
       "</style>\n",
       "<table border=\"1\" class=\"dataframe\">\n",
       "  <thead>\n",
       "    <tr style=\"text-align: right;\">\n",
       "      <th></th>\n",
       "      <th>timestamp</th>\n",
       "      <th>accel_x</th>\n",
       "      <th>accel_y</th>\n",
       "      <th>accel_z</th>\n",
       "      <th>gyro_x</th>\n",
       "      <th>gyro_y</th>\n",
       "      <th>gyro_z</th>\n",
       "    </tr>\n",
       "  </thead>\n",
       "  <tbody>\n",
       "    <tr>\n",
       "      <th>0</th>\n",
       "      <td>1970-01-01 02:29:48.972303690</td>\n",
       "      <td>-0.003026</td>\n",
       "      <td>-0.003380</td>\n",
       "      <td>0.001754</td>\n",
       "      <td>0.051727</td>\n",
       "      <td>-9.677321</td>\n",
       "      <td>1.002005</td>\n",
       "    </tr>\n",
       "    <tr>\n",
       "      <th>1</th>\n",
       "      <td>1970-01-01 02:29:48.973303690</td>\n",
       "      <td>0.002137</td>\n",
       "      <td>0.000993</td>\n",
       "      <td>0.000764</td>\n",
       "      <td>0.051727</td>\n",
       "      <td>-9.667402</td>\n",
       "      <td>0.973449</td>\n",
       "    </tr>\n",
       "    <tr>\n",
       "      <th>2</th>\n",
       "      <td>1970-01-01 02:29:48.974298990</td>\n",
       "      <td>-0.001732</td>\n",
       "      <td>0.012570</td>\n",
       "      <td>-0.005921</td>\n",
       "      <td>0.037855</td>\n",
       "      <td>-9.643586</td>\n",
       "      <td>0.988266</td>\n",
       "    </tr>\n",
       "    <tr>\n",
       "      <th>3</th>\n",
       "      <td>1970-01-01 02:29:48.975294190</td>\n",
       "      <td>0.000958</td>\n",
       "      <td>-0.019189</td>\n",
       "      <td>0.003014</td>\n",
       "      <td>0.037855</td>\n",
       "      <td>-9.610852</td>\n",
       "      <td>0.988295</td>\n",
       "    </tr>\n",
       "    <tr>\n",
       "      <th>4</th>\n",
       "      <td>1970-01-01 02:29:48.976284590</td>\n",
       "      <td>0.001921</td>\n",
       "      <td>0.016278</td>\n",
       "      <td>0.001371</td>\n",
       "      <td>0.041819</td>\n",
       "      <td>-9.595976</td>\n",
       "      <td>0.993228</td>\n",
       "    </tr>\n",
       "  </tbody>\n",
       "</table>\n",
       "</div>"
      ]
     },
     "execution_count": 16,
     "metadata": {},
     "output_type": "execute_result"
    }
   ],
   "execution_count": 16
  },
  {
   "metadata": {
    "ExecuteTime": {
     "end_time": "2024-11-09T21:48:35.993705Z",
     "start_time": "2024-11-09T21:48:35.945191Z"
    }
   },
   "cell_type": "code",
   "source": [
    "df_image_cam0 = pd.read_csv(\n",
    "    \"D:/thesis_code/data/EuRoC/MOO11_short_3_backandforth/mav0/cam0/data.csv\",\n",
    "    header=0,\n",
    "    names=(\n",
    "        'timestamp', \n",
    "        'filename'\n",
    "    )\n",
    ")\n",
    "\n",
    "df_image_cam0['timestamp'] = pd.to_datetime(df_image_cam0['timestamp'], unit='ns')\n",
    "df_image_cam0 = df_image_cam0.sort_values(by='timestamp')\n",
    "df_image_cam0['filename'] = df_image_cam0['filename'].str.replace(\".png\", \"\", regex=False)\n",
    "\n",
    "df_image_cam0.head()"
   ],
   "outputs": [
    {
     "data": {
      "text/plain": [
       "                      timestamp       filename\n",
       "0 1970-01-01 02:29:48.980098554  8988981394090\n",
       "1 1970-01-01 02:29:49.013387754  8989014683290\n",
       "2 1970-01-01 02:29:49.046676254  8989047971790\n",
       "3 1970-01-01 02:29:49.079967654  8989081263190\n",
       "4 1970-01-01 02:29:49.113255254  8989114550790"
      ],
      "text/html": [
       "<div>\n",
       "<style scoped>\n",
       "    .dataframe tbody tr th:only-of-type {\n",
       "        vertical-align: middle;\n",
       "    }\n",
       "\n",
       "    .dataframe tbody tr th {\n",
       "        vertical-align: top;\n",
       "    }\n",
       "\n",
       "    .dataframe thead th {\n",
       "        text-align: right;\n",
       "    }\n",
       "</style>\n",
       "<table border=\"1\" class=\"dataframe\">\n",
       "  <thead>\n",
       "    <tr style=\"text-align: right;\">\n",
       "      <th></th>\n",
       "      <th>timestamp</th>\n",
       "      <th>filename</th>\n",
       "    </tr>\n",
       "  </thead>\n",
       "  <tbody>\n",
       "    <tr>\n",
       "      <th>0</th>\n",
       "      <td>1970-01-01 02:29:48.980098554</td>\n",
       "      <td>8988981394090</td>\n",
       "    </tr>\n",
       "    <tr>\n",
       "      <th>1</th>\n",
       "      <td>1970-01-01 02:29:49.013387754</td>\n",
       "      <td>8989014683290</td>\n",
       "    </tr>\n",
       "    <tr>\n",
       "      <th>2</th>\n",
       "      <td>1970-01-01 02:29:49.046676254</td>\n",
       "      <td>8989047971790</td>\n",
       "    </tr>\n",
       "    <tr>\n",
       "      <th>3</th>\n",
       "      <td>1970-01-01 02:29:49.079967654</td>\n",
       "      <td>8989081263190</td>\n",
       "    </tr>\n",
       "    <tr>\n",
       "      <th>4</th>\n",
       "      <td>1970-01-01 02:29:49.113255254</td>\n",
       "      <td>8989114550790</td>\n",
       "    </tr>\n",
       "  </tbody>\n",
       "</table>\n",
       "</div>"
      ]
     },
     "execution_count": 17,
     "metadata": {},
     "output_type": "execute_result"
    }
   ],
   "execution_count": 17
  },
  {
   "cell_type": "code",
   "metadata": {
    "ExecuteTime": {
     "end_time": "2024-11-09T22:16:08.653583Z",
     "start_time": "2024-11-09T22:16:08.641123Z"
    }
   },
   "source": [
    "def average_last_n_imu_data(imu_df, image_df, N=10):\n",
    "    averaged_imu_data = []\n",
    "\n",
    "    for _, image_row in image_df.iterrows():\n",
    "        image_timestamp = image_row[\"timestamp\"]\n",
    "        filename = image_row[\"filename\"]\n",
    "        \n",
    "        # Last N IMU rows before current image timestamp\n",
    "        # len = 13536\n",
    "        mask = imu_df[\"timestamp\"] <= image_timestamp \n",
    "        imu_before = imu_df[mask].tail(N)\n",
    "\n",
    "        averaged_imu_data.append({\n",
    "            \"timestamp\": image_timestamp,\n",
    "            \"filename\": filename,\n",
    "            \n",
    "            \"avg_accel_x\": imu_before[\"accel_x\"].mean(),\n",
    "            \"avg_accel_y\": imu_before[\"accel_y\"].mean(),\n",
    "            \"avg_accel_z\": imu_before[\"accel_z\"].mean(),\n",
    "            \n",
    "            \"avg_gyro_x\": imu_before[\"gyro_x\"].mean(),\n",
    "            \"avg_gyro_y\": imu_before[\"gyro_y\"].mean(),\n",
    "            \"avg_gyro_z\": imu_before[\"gyro_z\"].mean()\n",
    "        })\n",
    "\n",
    "    return pd.DataFrame(averaged_imu_data)"
   ],
   "outputs": [],
   "execution_count": 27
  },
  {
   "metadata": {
    "ExecuteTime": {
     "end_time": "2024-11-09T22:16:10.307452Z",
     "start_time": "2024-11-09T22:16:09.237480Z"
    }
   },
   "cell_type": "code",
   "source": [
    "df = average_last_n_imu_data(df_imu, df_image_cam0, N=50)\n",
    "df.head()"
   ],
   "outputs": [
    {
     "data": {
      "text/plain": [
       "                      timestamp       filename  avg_accel_x  avg_accel_y  \\\n",
       "0 1970-01-01 02:29:48.980098554  8988981394090    -0.000045     0.001914   \n",
       "1 1970-01-01 02:29:49.013387754  8989014683290     0.004635     0.000052   \n",
       "2 1970-01-01 02:29:49.046676254  8989047971790     0.001968    -0.000109   \n",
       "3 1970-01-01 02:29:49.079967654  8989081263190    -0.001261    -0.000855   \n",
       "4 1970-01-01 02:29:49.113255254  8989114550790    -0.004574    -0.001154   \n",
       "\n",
       "   avg_accel_z  avg_gyro_x  avg_gyro_y  avg_gyro_z  \n",
       "0    -0.000164    0.046401   -9.612966    0.992221  \n",
       "1    -0.001792    0.060267   -9.656143    1.049923  \n",
       "2    -0.001991    0.063121   -9.651044    1.076436  \n",
       "3     0.002117    0.063359   -9.659852    1.059112  \n",
       "4     0.001606    0.039778   -9.659775    1.063402  "
      ],
      "text/html": [
       "<div>\n",
       "<style scoped>\n",
       "    .dataframe tbody tr th:only-of-type {\n",
       "        vertical-align: middle;\n",
       "    }\n",
       "\n",
       "    .dataframe tbody tr th {\n",
       "        vertical-align: top;\n",
       "    }\n",
       "\n",
       "    .dataframe thead th {\n",
       "        text-align: right;\n",
       "    }\n",
       "</style>\n",
       "<table border=\"1\" class=\"dataframe\">\n",
       "  <thead>\n",
       "    <tr style=\"text-align: right;\">\n",
       "      <th></th>\n",
       "      <th>timestamp</th>\n",
       "      <th>filename</th>\n",
       "      <th>avg_accel_x</th>\n",
       "      <th>avg_accel_y</th>\n",
       "      <th>avg_accel_z</th>\n",
       "      <th>avg_gyro_x</th>\n",
       "      <th>avg_gyro_y</th>\n",
       "      <th>avg_gyro_z</th>\n",
       "    </tr>\n",
       "  </thead>\n",
       "  <tbody>\n",
       "    <tr>\n",
       "      <th>0</th>\n",
       "      <td>1970-01-01 02:29:48.980098554</td>\n",
       "      <td>8988981394090</td>\n",
       "      <td>-0.000045</td>\n",
       "      <td>0.001914</td>\n",
       "      <td>-0.000164</td>\n",
       "      <td>0.046401</td>\n",
       "      <td>-9.612966</td>\n",
       "      <td>0.992221</td>\n",
       "    </tr>\n",
       "    <tr>\n",
       "      <th>1</th>\n",
       "      <td>1970-01-01 02:29:49.013387754</td>\n",
       "      <td>8989014683290</td>\n",
       "      <td>0.004635</td>\n",
       "      <td>0.000052</td>\n",
       "      <td>-0.001792</td>\n",
       "      <td>0.060267</td>\n",
       "      <td>-9.656143</td>\n",
       "      <td>1.049923</td>\n",
       "    </tr>\n",
       "    <tr>\n",
       "      <th>2</th>\n",
       "      <td>1970-01-01 02:29:49.046676254</td>\n",
       "      <td>8989047971790</td>\n",
       "      <td>0.001968</td>\n",
       "      <td>-0.000109</td>\n",
       "      <td>-0.001991</td>\n",
       "      <td>0.063121</td>\n",
       "      <td>-9.651044</td>\n",
       "      <td>1.076436</td>\n",
       "    </tr>\n",
       "    <tr>\n",
       "      <th>3</th>\n",
       "      <td>1970-01-01 02:29:49.079967654</td>\n",
       "      <td>8989081263190</td>\n",
       "      <td>-0.001261</td>\n",
       "      <td>-0.000855</td>\n",
       "      <td>0.002117</td>\n",
       "      <td>0.063359</td>\n",
       "      <td>-9.659852</td>\n",
       "      <td>1.059112</td>\n",
       "    </tr>\n",
       "    <tr>\n",
       "      <th>4</th>\n",
       "      <td>1970-01-01 02:29:49.113255254</td>\n",
       "      <td>8989114550790</td>\n",
       "      <td>-0.004574</td>\n",
       "      <td>-0.001154</td>\n",
       "      <td>0.001606</td>\n",
       "      <td>0.039778</td>\n",
       "      <td>-9.659775</td>\n",
       "      <td>1.063402</td>\n",
       "    </tr>\n",
       "  </tbody>\n",
       "</table>\n",
       "</div>"
      ]
     },
     "execution_count": 28,
     "metadata": {},
     "output_type": "execute_result"
    }
   ],
   "execution_count": 28
  },
  {
   "metadata": {
    "ExecuteTime": {
     "end_time": "2024-11-09T22:28:05.656108Z",
     "start_time": "2024-11-09T22:28:05.639295Z"
    }
   },
   "cell_type": "code",
   "source": [
    "df = pd.DataFrame([[1, 2], [3, 4]], columns=['A', 'B'])\n",
    "\n",
    "store = pd.HDFStore(\"store.h5\", 'w')  "
   ],
   "outputs": [],
   "execution_count": 35
  },
  {
   "metadata": {
    "ExecuteTime": {
     "end_time": "2024-11-09T22:28:12.140023Z",
     "start_time": "2024-11-09T22:28:12.118278Z"
    }
   },
   "cell_type": "code",
   "source": "store.put('data', df)  ",
   "outputs": [],
   "execution_count": 36
  },
  {
   "metadata": {
    "ExecuteTime": {
     "end_time": "2024-11-09T22:28:21.988458Z",
     "start_time": "2024-11-09T22:28:21.968379Z"
    }
   },
   "cell_type": "code",
   "source": "store.get('data')",
   "outputs": [
    {
     "data": {
      "text/plain": [
       "   A  B\n",
       "0  1  2\n",
       "1  3  4"
      ],
      "text/html": [
       "<div>\n",
       "<style scoped>\n",
       "    .dataframe tbody tr th:only-of-type {\n",
       "        vertical-align: middle;\n",
       "    }\n",
       "\n",
       "    .dataframe tbody tr th {\n",
       "        vertical-align: top;\n",
       "    }\n",
       "\n",
       "    .dataframe thead th {\n",
       "        text-align: right;\n",
       "    }\n",
       "</style>\n",
       "<table border=\"1\" class=\"dataframe\">\n",
       "  <thead>\n",
       "    <tr style=\"text-align: right;\">\n",
       "      <th></th>\n",
       "      <th>A</th>\n",
       "      <th>B</th>\n",
       "    </tr>\n",
       "  </thead>\n",
       "  <tbody>\n",
       "    <tr>\n",
       "      <th>0</th>\n",
       "      <td>1</td>\n",
       "      <td>2</td>\n",
       "    </tr>\n",
       "    <tr>\n",
       "      <th>1</th>\n",
       "      <td>3</td>\n",
       "      <td>4</td>\n",
       "    </tr>\n",
       "  </tbody>\n",
       "</table>\n",
       "</div>"
      ]
     },
     "execution_count": 37,
     "metadata": {},
     "output_type": "execute_result"
    }
   ],
   "execution_count": 37
  },
  {
   "metadata": {
    "ExecuteTime": {
     "end_time": "2024-11-09T22:28:34.734622Z",
     "start_time": "2024-11-09T22:28:34.721668Z"
    }
   },
   "cell_type": "code",
   "source": "store.close() ",
   "outputs": [],
   "execution_count": 38
  },
  {
   "metadata": {},
   "cell_type": "code",
   "outputs": [],
   "execution_count": null,
   "source": ""
  }
 ],
 "metadata": {
  "kernelspec": {
   "display_name": "kd_pipeline",
   "language": "python",
   "name": "python3"
  },
  "language_info": {
   "name": "python",
   "version": "3.12.7"
  }
 },
 "nbformat": 4,
 "nbformat_minor": 2
}
