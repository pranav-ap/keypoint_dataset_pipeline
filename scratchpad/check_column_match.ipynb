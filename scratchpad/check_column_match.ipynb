{
 "cells": [
  {
   "cell_type": "code",
   "id": "initial_id",
   "metadata": {
    "collapsed": true,
    "ExecuteTime": {
     "end_time": "2024-11-09T12:41:28.528210Z",
     "start_time": "2024-11-09T12:41:22.631665Z"
    }
   },
   "source": "import pandas as pd",
   "outputs": [],
   "execution_count": 4
  },
  {
   "metadata": {
    "ExecuteTime": {
     "end_time": "2024-11-09T12:41:28.579523Z",
     "start_time": "2024-11-09T12:41:28.532956Z"
    }
   },
   "cell_type": "code",
   "source": [
    "a = pd.read_csv(\"D:/thesis_code/data/EuRoC/V1_01_easy/mav0/cam0/data.csv\")\n",
    "b = pd.read_csv(\"D:/thesis_code/data/EuRoC/V1_01_easy/mav0/cam1/data.csv\")"
   ],
   "id": "11354e5e5e1ed19e",
   "outputs": [],
   "execution_count": 5
  },
  {
   "metadata": {
    "ExecuteTime": {
     "end_time": "2024-11-09T12:41:34.161886Z",
     "start_time": "2024-11-09T12:41:34.132162Z"
    }
   },
   "cell_type": "code",
   "source": "a.head()",
   "id": "5d4f079698e43e41",
   "outputs": [
    {
     "data": {
      "text/plain": [
       "       #timestamp [ns]                 filename\n",
       "0  1403715273262142976  1403715273262142976.png\n",
       "1  1403715273312143104  1403715273312143104.png\n",
       "2  1403715273362142976  1403715273362142976.png\n",
       "3  1403715273412143104  1403715273412143104.png\n",
       "4  1403715273462142976  1403715273462142976.png"
      ],
      "text/html": [
       "<div>\n",
       "<style scoped>\n",
       "    .dataframe tbody tr th:only-of-type {\n",
       "        vertical-align: middle;\n",
       "    }\n",
       "\n",
       "    .dataframe tbody tr th {\n",
       "        vertical-align: top;\n",
       "    }\n",
       "\n",
       "    .dataframe thead th {\n",
       "        text-align: right;\n",
       "    }\n",
       "</style>\n",
       "<table border=\"1\" class=\"dataframe\">\n",
       "  <thead>\n",
       "    <tr style=\"text-align: right;\">\n",
       "      <th></th>\n",
       "      <th>#timestamp [ns]</th>\n",
       "      <th>filename</th>\n",
       "    </tr>\n",
       "  </thead>\n",
       "  <tbody>\n",
       "    <tr>\n",
       "      <th>0</th>\n",
       "      <td>1403715273262142976</td>\n",
       "      <td>1403715273262142976.png</td>\n",
       "    </tr>\n",
       "    <tr>\n",
       "      <th>1</th>\n",
       "      <td>1403715273312143104</td>\n",
       "      <td>1403715273312143104.png</td>\n",
       "    </tr>\n",
       "    <tr>\n",
       "      <th>2</th>\n",
       "      <td>1403715273362142976</td>\n",
       "      <td>1403715273362142976.png</td>\n",
       "    </tr>\n",
       "    <tr>\n",
       "      <th>3</th>\n",
       "      <td>1403715273412143104</td>\n",
       "      <td>1403715273412143104.png</td>\n",
       "    </tr>\n",
       "    <tr>\n",
       "      <th>4</th>\n",
       "      <td>1403715273462142976</td>\n",
       "      <td>1403715273462142976.png</td>\n",
       "    </tr>\n",
       "  </tbody>\n",
       "</table>\n",
       "</div>"
      ]
     },
     "execution_count": 6,
     "metadata": {},
     "output_type": "execute_result"
    }
   ],
   "execution_count": 6
  },
  {
   "metadata": {
    "ExecuteTime": {
     "end_time": "2024-11-09T12:41:36.349077Z",
     "start_time": "2024-11-09T12:41:36.329840Z"
    }
   },
   "cell_type": "code",
   "source": "b.head()",
   "id": "3fd999b0b51772f",
   "outputs": [
    {
     "data": {
      "text/plain": [
       "       #timestamp [ns]                 filename\n",
       "0  1403715273262142976  1403715273262142976.png\n",
       "1  1403715273312143104  1403715273312143104.png\n",
       "2  1403715273362142976  1403715273362142976.png\n",
       "3  1403715273412143104  1403715273412143104.png\n",
       "4  1403715273462142976  1403715273462142976.png"
      ],
      "text/html": [
       "<div>\n",
       "<style scoped>\n",
       "    .dataframe tbody tr th:only-of-type {\n",
       "        vertical-align: middle;\n",
       "    }\n",
       "\n",
       "    .dataframe tbody tr th {\n",
       "        vertical-align: top;\n",
       "    }\n",
       "\n",
       "    .dataframe thead th {\n",
       "        text-align: right;\n",
       "    }\n",
       "</style>\n",
       "<table border=\"1\" class=\"dataframe\">\n",
       "  <thead>\n",
       "    <tr style=\"text-align: right;\">\n",
       "      <th></th>\n",
       "      <th>#timestamp [ns]</th>\n",
       "      <th>filename</th>\n",
       "    </tr>\n",
       "  </thead>\n",
       "  <tbody>\n",
       "    <tr>\n",
       "      <th>0</th>\n",
       "      <td>1403715273262142976</td>\n",
       "      <td>1403715273262142976.png</td>\n",
       "    </tr>\n",
       "    <tr>\n",
       "      <th>1</th>\n",
       "      <td>1403715273312143104</td>\n",
       "      <td>1403715273312143104.png</td>\n",
       "    </tr>\n",
       "    <tr>\n",
       "      <th>2</th>\n",
       "      <td>1403715273362142976</td>\n",
       "      <td>1403715273362142976.png</td>\n",
       "    </tr>\n",
       "    <tr>\n",
       "      <th>3</th>\n",
       "      <td>1403715273412143104</td>\n",
       "      <td>1403715273412143104.png</td>\n",
       "    </tr>\n",
       "    <tr>\n",
       "      <th>4</th>\n",
       "      <td>1403715273462142976</td>\n",
       "      <td>1403715273462142976.png</td>\n",
       "    </tr>\n",
       "  </tbody>\n",
       "</table>\n",
       "</div>"
      ]
     },
     "execution_count": 7,
     "metadata": {},
     "output_type": "execute_result"
    }
   ],
   "execution_count": 7
  },
  {
   "metadata": {
    "ExecuteTime": {
     "end_time": "2024-11-09T12:45:13.887358Z",
     "start_time": "2024-11-09T12:45:13.873523Z"
    }
   },
   "cell_type": "code",
   "source": [
    "column_name = 'filename'\n",
    "a[column_name].equals(b[column_name])"
   ],
   "id": "b41e6a8e2e340f5",
   "outputs": [
    {
     "data": {
      "text/plain": [
       "True"
      ]
     },
     "execution_count": 8,
     "metadata": {},
     "output_type": "execute_result"
    }
   ],
   "execution_count": 8
  },
  {
   "metadata": {},
   "cell_type": "code",
   "outputs": [],
   "execution_count": null,
   "source": "",
   "id": "5d19e36770a8370b"
  }
 ],
 "metadata": {
  "kernelspec": {
   "display_name": "Python 3",
   "language": "python",
   "name": "python3"
  },
  "language_info": {
   "codemirror_mode": {
    "name": "ipython",
    "version": 2
   },
   "file_extension": ".py",
   "mimetype": "text/x-python",
   "name": "python",
   "nbconvert_exporter": "python",
   "pygments_lexer": "ipython2",
   "version": "2.7.6"
  }
 },
 "nbformat": 4,
 "nbformat_minor": 5
}
