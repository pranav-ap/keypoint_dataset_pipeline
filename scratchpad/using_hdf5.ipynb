{
 "cells": [
  {
   "metadata": {
    "ExecuteTime": {
     "end_time": "2024-11-10T08:24:02.384217Z",
     "start_time": "2024-11-10T08:24:02.272999Z"
    }
   },
   "cell_type": "code",
   "source": [
    "%load_ext autoreload\n",
    "%autoreload 2"
   ],
   "id": "6fba48045eee6e30",
   "outputs": [],
   "execution_count": 1
  },
  {
   "metadata": {
    "ExecuteTime": {
     "end_time": "2024-11-10T08:24:17.658518Z",
     "start_time": "2024-11-10T08:24:02.393189Z"
    }
   },
   "cell_type": "code",
   "source": [
    "import h5py\n",
    "import numpy as np\n",
    "from ImageData import DataStore"
   ],
   "id": "fd2b754d099428f9",
   "outputs": [],
   "execution_count": 2
  },
  {
   "metadata": {
    "ExecuteTime": {
     "end_time": "2024-11-10T08:24:17.963175Z",
     "start_time": "2024-11-10T08:24:17.664100Z"
    }
   },
   "cell_type": "code",
   "source": "ds = DataStore()",
   "id": "aa9f6b8d172707a0",
   "outputs": [],
   "execution_count": 3
  },
  {
   "metadata": {
    "ExecuteTime": {
     "end_time": "2024-11-10T08:24:17.976438Z",
     "start_time": "2024-11-10T08:24:17.969194Z"
    }
   },
   "cell_type": "code",
   "source": "ds",
   "id": "4e48193ae116060e",
   "outputs": [],
   "execution_count": 3
  }
 ],
 "metadata": {
  "kernelspec": {
   "display_name": "Python 3",
   "language": "python",
   "name": "python3"
  },
  "language_info": {
   "codemirror_mode": {
    "name": "ipython",
    "version": 2
   },
   "file_extension": ".py",
   "mimetype": "text/x-python",
   "name": "python",
   "nbconvert_exporter": "python",
   "pygments_lexer": "ipython2",
   "version": "2.7.6"
  }
 },
 "nbformat": 4,
 "nbformat_minor": 5
}
