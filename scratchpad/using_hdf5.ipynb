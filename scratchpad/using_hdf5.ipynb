{
 "cells": [
  {
   "metadata": {
    "ExecuteTime": {
     "end_time": "2024-11-10T06:50:03.929118Z",
     "start_time": "2024-11-10T06:50:01.866170Z"
    }
   },
   "cell_type": "code",
   "source": [
    "import h5py\n",
    "import numpy as np"
   ],
   "id": "fd2b754d099428f9",
   "outputs": [],
   "execution_count": 1
  },
  {
   "cell_type": "code",
   "id": "initial_id",
   "metadata": {
    "collapsed": true,
    "ExecuteTime": {
     "end_time": "2024-11-10T06:52:31.565335Z",
     "start_time": "2024-11-10T06:52:31.553592Z"
    }
   },
   "source": [
    "arr = np.random.randn(1000)\n",
    "\n",
    "f = h5py.File('random.hdf5', 'w')\n",
    "dset = f.create_dataset(\"default\", data=arr)"
   ],
   "outputs": [],
   "execution_count": 4
  },
  {
   "metadata": {
    "ExecuteTime": {
     "end_time": "2024-11-10T06:52:32.672308Z",
     "start_time": "2024-11-10T06:52:32.661589Z"
    }
   },
   "cell_type": "code",
   "source": "dset",
   "id": "948cb1e0083c8501",
   "outputs": [
    {
     "data": {
      "text/plain": [
       "<HDF5 dataset \"default\": shape (1000,), type \"<f8\">"
      ]
     },
     "execution_count": 5,
     "metadata": {},
     "output_type": "execute_result"
    }
   ],
   "execution_count": 5
  },
  {
   "metadata": {
    "ExecuteTime": {
     "end_time": "2024-11-10T06:52:42.117398Z",
     "start_time": "2024-11-10T06:52:42.105688Z"
    }
   },
   "cell_type": "code",
   "source": "f",
   "id": "347bc0fe293664c5",
   "outputs": [
    {
     "data": {
      "text/plain": [
       "<HDF5 file \"random.hdf5\" (mode r+)>"
      ]
     },
     "execution_count": 6,
     "metadata": {},
     "output_type": "execute_result"
    }
   ],
   "execution_count": 6
  },
  {
   "metadata": {
    "ExecuteTime": {
     "end_time": "2024-11-10T06:53:25.157022Z",
     "start_time": "2024-11-10T06:53:25.016358Z"
    }
   },
   "cell_type": "code",
   "source": [
    "f = h5py.File('random.hdf5', 'r')\n",
    "data = f['default']\n",
    "print(min(data))\n",
    "print(max(data))\n",
    "print(data[:15])"
   ],
   "id": "bba35f925d603bcf",
   "outputs": [
    {
     "name": "stdout",
     "output_type": "stream",
     "text": [
      "-3.028203802775301\n",
      "2.849861327366031\n",
      "[ 0.13167832  0.7856624   0.04530635 -0.8441405   0.51433063 -0.41235448\n",
      " -1.44614226  0.63481737  0.08634904  0.16072512  1.48771455  0.30541003\n",
      " -1.24342568 -1.50267786  1.92152988]\n"
     ]
    }
   ],
   "execution_count": 8
  },
  {
   "metadata": {
    "ExecuteTime": {
     "end_time": "2024-11-10T06:53:36.075177Z",
     "start_time": "2024-11-10T06:53:36.067103Z"
    }
   },
   "cell_type": "code",
   "source": "f.close()",
   "id": "a2b1ceca0031fbe",
   "outputs": [],
   "execution_count": 9
  },
  {
   "metadata": {
    "ExecuteTime": {
     "end_time": "2024-11-10T06:54:15.475563Z",
     "start_time": "2024-11-10T06:54:15.463018Z"
    }
   },
   "cell_type": "code",
   "source": [
    "f = h5py.File('random.hdf5', 'r')\n",
    "for key in f.keys():\n",
    "   print(key)\n"
   ],
   "id": "fb68a244a74b76e9",
   "outputs": [
    {
     "name": "stdout",
     "output_type": "stream",
     "text": [
      "default\n"
     ]
    }
   ],
   "execution_count": 10
  },
  {
   "metadata": {
    "ExecuteTime": {
     "end_time": "2024-11-10T06:55:50.842846Z",
     "start_time": "2024-11-10T06:55:50.829722Z"
    }
   },
   "cell_type": "code",
   "source": [
    "data = f['default'][()]\n",
    "type(data)"
   ],
   "id": "ce3220b8bf592772",
   "outputs": [
    {
     "data": {
      "text/plain": [
       "numpy.ndarray"
      ]
     },
     "execution_count": 12,
     "metadata": {},
     "output_type": "execute_result"
    }
   ],
   "execution_count": 12
  },
  {
   "metadata": {
    "ExecuteTime": {
     "end_time": "2024-11-10T06:57:18.155334Z",
     "start_time": "2024-11-10T06:57:18.142731Z"
    }
   },
   "cell_type": "code",
   "source": [
    "with h5py.File('random.hdf5', 'r') as f:\n",
    "   data_set = f['default']\n",
    "   data = data_set[:10]\n",
    "   print(data[1])\n",
    "   print(data_set[1])"
   ],
   "id": "b5af663fed4c28fd",
   "outputs": [
    {
     "name": "stdout",
     "output_type": "stream",
     "text": [
      "0.7856624033752321\n",
      "0.7856624033752321\n"
     ]
    }
   ],
   "execution_count": 14
  },
  {
   "metadata": {},
   "cell_type": "code",
   "outputs": [],
   "execution_count": null,
   "source": "",
   "id": "701f19dc655940b1"
  }
 ],
 "metadata": {
  "kernelspec": {
   "display_name": "Python 3",
   "language": "python",
   "name": "python3"
  },
  "language_info": {
   "codemirror_mode": {
    "name": "ipython",
    "version": 2
   },
   "file_extension": ".py",
   "mimetype": "text/x-python",
   "name": "python",
   "nbconvert_exporter": "python",
   "pygments_lexer": "ipython2",
   "version": "2.7.6"
  }
 },
 "nbformat": 4,
 "nbformat_minor": 5
}
