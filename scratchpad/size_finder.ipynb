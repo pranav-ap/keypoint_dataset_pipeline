{
 "cells": [
  {
   "cell_type": "code",
   "execution_count": null,
   "metadata": {},
   "outputs": [
    {
     "name": "stdout",
     "output_type": "stream",
     "text": [
      "Adjusted dimensions: 504x420\n"
     ]
    }
   ],
   "source": [
    "def adjust_dimensions(height, width, scale_factor, patch_size=16):\n",
    "    # Scale the dimensions\n",
    "    new_height = int(height * scale_factor)\n",
    "    new_width = int(width * scale_factor)\n",
    "    \n",
    "    # Find the nearest dimension divisible by both 14 and patch_size\n",
    "    def nearest_divisible(value, divisor):\n",
    "        return value - (value % divisor) + (divisor if value % divisor != 0 else 0)\n",
    "    \n",
    "    # Ensure new dimensions are divisible by 14 and patch_size\n",
    "    new_height = nearest_divisible(new_height, 14 * patch_size // 14)\n",
    "    new_width = nearest_divisible(new_width, 14 * patch_size // 14)\n",
    "\n",
    "    return new_height, new_width\n",
    "\n",
    "\n",
    "original_height = 640\n",
    "original_width = 480\n",
    "scale_factor = 0.75\n",
    "patch_size = 84\n",
    "\n",
    "new_height, new_width = adjust_dimensions(original_height, original_width, scale_factor, patch_size)\n",
    "print(f\"Adjusted dimensions: {new_height}x{new_width}\")"
   ]
  },
  {
   "metadata": {
    "ExecuteTime": {
     "end_time": "2024-11-10T17:40:29.171223Z",
     "start_time": "2024-11-10T17:40:29.150429Z"
    }
   },
   "cell_type": "code",
   "source": [
    "def adjust_dimensions(height, width, patch_size=16):\n",
    "    # Function to find the nearest dimension divisible by both patch_size and 14\n",
    "    def nearest_divisible(value, divisors):\n",
    "        # Loop through all divisors and adjust the value\n",
    "        for divisor in divisors:\n",
    "            value = value + (divisor - (value % divisor)) if value % divisor != 0 else value\n",
    "        return value\n",
    "    \n",
    "    # Adjust both dimensions for the patch size and 14 divisibility\n",
    "    new_height = nearest_divisible(height, [patch_size, 14])\n",
    "    new_width = nearest_divisible(width, [patch_size, 14])\n",
    "\n",
    "    return new_height, new_width\n",
    "\n",
    "# Example usage:\n",
    "original_height = 640\n",
    "original_width = 480\n",
    "patch_size = 84\n",
    "\n",
    "new_height, new_width = adjust_dimensions(original_height, original_width, patch_size)\n",
    "print(f\"Adjusted dimensions: {new_height}x{new_width}\")\n"
   ],
   "outputs": [
    {
     "name": "stdout",
     "output_type": "stream",
     "text": [
      "Adjusted dimensions: 672x504\n"
     ]
    }
   ],
   "execution_count": 1
  },
  {
   "metadata": {
    "ExecuteTime": {
     "end_time": "2024-11-10T17:43:14.214030Z",
     "start_time": "2024-11-10T17:43:14.196220Z"
    }
   },
   "cell_type": "code",
   "source": [
    "def select_patch_size(height, width):\n",
    "    # Choose a patch size that is reasonable for the image size\n",
    "    # Try to keep the patch size within a range based on the image size\n",
    "    max_patch_size = min(height, width) // 10  # Make patch size roughly 1/10th of the smaller dimension\n",
    "    patch_size = max_patch_size\n",
    "    \n",
    "    # Ensure the patch size is divisible by 14\n",
    "    if patch_size % 14 != 0:\n",
    "        patch_size = patch_size - (patch_size % 14)  # Adjust patch size to be divisible by 14\n",
    "    \n",
    "    return patch_size\n",
    "\n",
    "def adjust_dimensions(height, width):\n",
    "    # Select a patch size based on the image dimensions\n",
    "    patch_size = select_patch_size(height, width)\n",
    "    \n",
    "    # Function to find the nearest dimension divisible by both patch_size and 14\n",
    "    def nearest_divisible(value, divisors):\n",
    "        for divisor in divisors:\n",
    "            value = value + (divisor - (value % divisor)) if value % divisor != 0 else value\n",
    "        return value\n",
    "    \n",
    "    # Adjust both dimensions for the patch size and 14 divisibility\n",
    "    new_height = nearest_divisible(height, [patch_size, 14])\n",
    "    new_width = nearest_divisible(width, [patch_size, 14])\n",
    "\n",
    "    return patch_size, new_height, new_width\n",
    "\n",
    "# Example usage:\n",
    "original_height = 640\n",
    "original_width = 480\n",
    "\n",
    "patch_size, new_height, new_width = adjust_dimensions(original_height, original_width)\n",
    "print(f\"Selected Patch Size: {patch_size}\")\n",
    "print(f\"Adjusted dimensions: {new_height}x{new_width}\")\n"
   ],
   "outputs": [
    {
     "name": "stdout",
     "output_type": "stream",
     "text": [
      "Selected Patch Size: 42\n",
      "Adjusted dimensions: 672x504\n"
     ]
    }
   ],
   "execution_count": 2
  },
  {
   "metadata": {
    "ExecuteTime": {
     "end_time": "2024-11-10T17:46:26.224559Z",
     "start_time": "2024-11-10T17:46:26.214232Z"
    }
   },
   "cell_type": "code",
   "source": "672 / 42, 672 / 14, 504 / 42, 504 / 14",
   "outputs": [
    {
     "data": {
      "text/plain": [
       "(16.0, 48.0, 12.0, 36.0)"
      ]
     },
     "execution_count": 5,
     "metadata": {},
     "output_type": "execute_result"
    }
   ],
   "execution_count": 5
  },
  {
   "metadata": {},
   "cell_type": "code",
   "outputs": [],
   "execution_count": null,
   "source": ""
  }
 ],
 "metadata": {
  "kernelspec": {
   "display_name": "kd_pipeline",
   "language": "python",
   "name": "python3"
  },
  "language_info": {
   "codemirror_mode": {
    "name": "ipython",
    "version": 3
   },
   "file_extension": ".py",
   "mimetype": "text/x-python",
   "name": "python",
   "nbconvert_exporter": "python",
   "pygments_lexer": "ipython3",
   "version": "3.12.7"
  }
 },
 "nbformat": 4,
 "nbformat_minor": 2
}
