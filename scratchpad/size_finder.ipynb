{
 "cells": [
  {
   "cell_type": "code",
   "execution_count": null,
   "metadata": {},
   "outputs": [
    {
     "name": "stdout",
     "output_type": "stream",
     "text": [
      "Adjusted dimensions: 504x420\n"
     ]
    }
   ],
   "source": [
    "def adjust_dimensions(height, width, scale_factor, patch_size=16):\n",
    "    # Scale the dimensions\n",
    "    new_height = int(height * scale_factor)\n",
    "    new_width = int(width * scale_factor)\n",
    "    \n",
    "    # Find the nearest dimension divisible by both 14 and patch_size\n",
    "    def nearest_divisible(value, divisor):\n",
    "        return value - (value % divisor) + (divisor if value % divisor != 0 else 0)\n",
    "    \n",
    "    # Ensure new dimensions are divisible by 14 and patch_size\n",
    "    new_height = nearest_divisible(new_height, 14 * patch_size // 14)\n",
    "    new_width = nearest_divisible(new_width, 14 * patch_size // 14)\n",
    "\n",
    "    return new_height, new_width\n",
    "\n",
    "\n",
    "original_height = 640\n",
    "original_width = 480\n",
    "scale_factor = 0.75\n",
    "patch_size = 84\n",
    "\n",
    "new_height, new_width = adjust_dimensions(original_height, original_width, scale_factor, patch_size)\n",
    "print(f\"Adjusted dimensions: {new_height}x{new_width}\")"
   ]
  }
 ],
 "metadata": {
  "kernelspec": {
   "display_name": "kd_pipeline",
   "language": "python",
   "name": "python3"
  },
  "language_info": {
   "codemirror_mode": {
    "name": "ipython",
    "version": 3
   },
   "file_extension": ".py",
   "mimetype": "text/x-python",
   "name": "python",
   "nbconvert_exporter": "python",
   "pygments_lexer": "ipython3",
   "version": "3.12.7"
  }
 },
 "nbformat": 4,
 "nbformat_minor": 2
}
