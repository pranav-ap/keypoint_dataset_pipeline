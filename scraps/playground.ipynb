{
 "cells": [
  {
   "cell_type": "code",
   "id": "initial_id",
   "metadata": {
    "collapsed": true,
    "ExecuteTime": {
     "end_time": "2024-10-19T11:26:31.712166Z",
     "start_time": "2024-10-19T11:26:31.706954Z"
    }
   },
   "source": "import pandas as pd",
   "outputs": [],
   "execution_count": 9
  },
  {
   "metadata": {
    "ExecuteTime": {
     "end_time": "2024-10-19T11:26:31.735992Z",
     "start_time": "2024-10-19T11:26:31.714795Z"
    }
   },
   "cell_type": "code",
   "source": [
    "df = pd.read_csv(\n",
    "    \"D:/thesis_code/data/EuRoC/V1_01_easy/mav0/cam0/data.csv\"\n",
    ")\n",
    "\n",
    "df['timestamp'] = pd.to_datetime(df['#timestamp [ns]'], unit='ns')\n",
    "df = df.sort_values(by='timestamp')"
   ],
   "id": "9dfd1975b7fafe9a",
   "outputs": [],
   "execution_count": 10
  },
  {
   "metadata": {
    "ExecuteTime": {
     "end_time": "2024-10-19T11:26:31.749932Z",
     "start_time": "2024-10-19T11:26:31.738003Z"
    }
   },
   "cell_type": "code",
   "source": [
    "df_basalt = pd.read_csv(\n",
    "    \"D:/thesis_code/data/EuRoC/keyframes/V1_01_easy.keyframes.csv\", \n",
    "    names=['timestamp']\n",
    ")\n",
    "\n",
    "df_basalt['timestamp'] = pd.to_datetime(df_basalt['timestamp'], unit='ns')\n",
    "\n",
    "df_basalt.head()"
   ],
   "id": "2125d4773e9a5e66",
   "outputs": [
    {
     "data": {
      "text/plain": [
       "                      timestamp\n",
       "0 2014-06-25 16:54:33.612143104\n",
       "1 2014-06-25 16:54:33.962142976\n",
       "2 2014-06-25 16:54:34.312143104\n",
       "3 2014-06-25 16:54:34.662142976\n",
       "4 2014-06-25 16:54:35.012143104"
      ],
      "text/html": [
       "<div>\n",
       "<style scoped>\n",
       "    .dataframe tbody tr th:only-of-type {\n",
       "        vertical-align: middle;\n",
       "    }\n",
       "\n",
       "    .dataframe tbody tr th {\n",
       "        vertical-align: top;\n",
       "    }\n",
       "\n",
       "    .dataframe thead th {\n",
       "        text-align: right;\n",
       "    }\n",
       "</style>\n",
       "<table border=\"1\" class=\"dataframe\">\n",
       "  <thead>\n",
       "    <tr style=\"text-align: right;\">\n",
       "      <th></th>\n",
       "      <th>timestamp</th>\n",
       "    </tr>\n",
       "  </thead>\n",
       "  <tbody>\n",
       "    <tr>\n",
       "      <th>0</th>\n",
       "      <td>2014-06-25 16:54:33.612143104</td>\n",
       "    </tr>\n",
       "    <tr>\n",
       "      <th>1</th>\n",
       "      <td>2014-06-25 16:54:33.962142976</td>\n",
       "    </tr>\n",
       "    <tr>\n",
       "      <th>2</th>\n",
       "      <td>2014-06-25 16:54:34.312143104</td>\n",
       "    </tr>\n",
       "    <tr>\n",
       "      <th>3</th>\n",
       "      <td>2014-06-25 16:54:34.662142976</td>\n",
       "    </tr>\n",
       "    <tr>\n",
       "      <th>4</th>\n",
       "      <td>2014-06-25 16:54:35.012143104</td>\n",
       "    </tr>\n",
       "  </tbody>\n",
       "</table>\n",
       "</div>"
      ]
     },
     "execution_count": 11,
     "metadata": {},
     "output_type": "execute_result"
    }
   ],
   "execution_count": 11
  },
  {
   "metadata": {
    "ExecuteTime": {
     "end_time": "2024-10-19T11:26:31.774783Z",
     "start_time": "2024-10-19T11:26:31.751951Z"
    }
   },
   "cell_type": "code",
   "source": [
    "df_filtered = df.query('timestamp in @df_basalt[\"timestamp\"]')\n",
    "df_filtered = df_filtered['filename']\n",
    "df_filtered.head()"
   ],
   "id": "e03b941d0ebadeb8",
   "outputs": [
    {
     "data": {
      "text/plain": [
       "7     1403715273612143104.png\n",
       "14    1403715273962142976.png\n",
       "21    1403715274312143104.png\n",
       "28    1403715274662142976.png\n",
       "35    1403715275012143104.png\n",
       "Name: filename, dtype: object"
      ]
     },
     "execution_count": 12,
     "metadata": {},
     "output_type": "execute_result"
    }
   ],
   "execution_count": 12
  },
  {
   "metadata": {
    "ExecuteTime": {
     "end_time": "2024-10-19T11:26:56.478241Z",
     "start_time": "2024-10-19T11:26:56.471444Z"
    }
   },
   "cell_type": "code",
   "source": "df_filtered.to_csv('data/keyframes/EuRoC_V1_01_easy_filenames.csv', index=False)",
   "id": "f3b86025183c317",
   "outputs": [],
   "execution_count": 14
  },
  {
   "metadata": {},
   "cell_type": "code",
   "outputs": [],
   "execution_count": null,
   "source": "",
   "id": "5bd51a3065196504"
  }
 ],
 "metadata": {
  "kernelspec": {
   "display_name": "Python 3",
   "language": "python",
   "name": "python3"
  },
  "language_info": {
   "codemirror_mode": {
    "name": "ipython",
    "version": 2
   },
   "file_extension": ".py",
   "mimetype": "text/x-python",
   "name": "python",
   "nbconvert_exporter": "python",
   "pygments_lexer": "ipython2",
   "version": "2.7.6"
  }
 },
 "nbformat": 4,
 "nbformat_minor": 5
}
